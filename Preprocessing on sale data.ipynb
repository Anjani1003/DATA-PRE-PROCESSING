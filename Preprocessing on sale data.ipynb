{
 "cells": [
  {
   "cell_type": "code",
   "execution_count": 1,
   "id": "0899606e",
   "metadata": {},
   "outputs": [],
   "source": [
    "import os\n",
    "import numpy as np\n",
    "import pandas as pd\n",
    "import seaborn as sns \n",
    "import matplotlib.pyplot as plt\n",
    "%matplotlib inline"
   ]
  },
  {
   "cell_type": "code",
   "execution_count": 2,
   "id": "8780cb4e",
   "metadata": {
    "scrolled": true
   },
   "outputs": [
    {
     "data": {
      "text/plain": [
       "'/Users/anjanikumar/Desktop/learnbay/learnbay projects/Github/data preprocessing'"
      ]
     },
     "execution_count": 2,
     "metadata": {},
     "output_type": "execute_result"
    }
   ],
   "source": [
    "os.getcwd()"
   ]
  },
  {
   "cell_type": "code",
   "execution_count": 3,
   "id": "26e6b9bf",
   "metadata": {},
   "outputs": [],
   "source": [
    "data=pd.read_csv(\"Dummy Data HSS.csv\")"
   ]
  },
  {
   "cell_type": "code",
   "execution_count": 4,
   "id": "1e553789",
   "metadata": {
    "scrolled": true
   },
   "outputs": [
    {
     "data": {
      "text/html": [
       "<div>\n",
       "<style scoped>\n",
       "    .dataframe tbody tr th:only-of-type {\n",
       "        vertical-align: middle;\n",
       "    }\n",
       "\n",
       "    .dataframe tbody tr th {\n",
       "        vertical-align: top;\n",
       "    }\n",
       "\n",
       "    .dataframe thead th {\n",
       "        text-align: right;\n",
       "    }\n",
       "</style>\n",
       "<table border=\"1\" class=\"dataframe\">\n",
       "  <thead>\n",
       "    <tr style=\"text-align: right;\">\n",
       "      <th></th>\n",
       "      <th>TV</th>\n",
       "      <th>Radio</th>\n",
       "      <th>Social Media</th>\n",
       "      <th>Influencer</th>\n",
       "      <th>Sales</th>\n",
       "    </tr>\n",
       "  </thead>\n",
       "  <tbody>\n",
       "    <tr>\n",
       "      <th>0</th>\n",
       "      <td>16.0</td>\n",
       "      <td>6.566231</td>\n",
       "      <td>2.907983</td>\n",
       "      <td>Mega</td>\n",
       "      <td>54.732757</td>\n",
       "    </tr>\n",
       "    <tr>\n",
       "      <th>1</th>\n",
       "      <td>13.0</td>\n",
       "      <td>9.237765</td>\n",
       "      <td>2.409567</td>\n",
       "      <td>Mega</td>\n",
       "      <td>46.677897</td>\n",
       "    </tr>\n",
       "    <tr>\n",
       "      <th>2</th>\n",
       "      <td>41.0</td>\n",
       "      <td>15.886446</td>\n",
       "      <td>2.913410</td>\n",
       "      <td>Mega</td>\n",
       "      <td>150.177829</td>\n",
       "    </tr>\n",
       "    <tr>\n",
       "      <th>3</th>\n",
       "      <td>83.0</td>\n",
       "      <td>30.020028</td>\n",
       "      <td>6.922304</td>\n",
       "      <td>Mega</td>\n",
       "      <td>298.246340</td>\n",
       "    </tr>\n",
       "    <tr>\n",
       "      <th>4</th>\n",
       "      <td>15.0</td>\n",
       "      <td>8.437408</td>\n",
       "      <td>1.405998</td>\n",
       "      <td>Micro</td>\n",
       "      <td>56.594181</td>\n",
       "    </tr>\n",
       "  </tbody>\n",
       "</table>\n",
       "</div>"
      ],
      "text/plain": [
       "     TV      Radio  Social Media Influencer       Sales\n",
       "0  16.0   6.566231      2.907983       Mega   54.732757\n",
       "1  13.0   9.237765      2.409567       Mega   46.677897\n",
       "2  41.0  15.886446      2.913410       Mega  150.177829\n",
       "3  83.0  30.020028      6.922304       Mega  298.246340\n",
       "4  15.0   8.437408      1.405998      Micro   56.594181"
      ]
     },
     "execution_count": 4,
     "metadata": {},
     "output_type": "execute_result"
    }
   ],
   "source": [
    "data.head()"
   ]
  },
  {
   "cell_type": "code",
   "execution_count": 5,
   "id": "89e71b1e",
   "metadata": {
    "scrolled": true
   },
   "outputs": [
    {
     "name": "stdout",
     "output_type": "stream",
     "text": [
      "<class 'pandas.core.frame.DataFrame'>\n",
      "RangeIndex: 4572 entries, 0 to 4571\n",
      "Data columns (total 5 columns):\n",
      " #   Column        Non-Null Count  Dtype  \n",
      "---  ------        --------------  -----  \n",
      " 0   TV            4562 non-null   float64\n",
      " 1   Radio         4568 non-null   float64\n",
      " 2   Social Media  4566 non-null   float64\n",
      " 3   Influencer    4572 non-null   object \n",
      " 4   Sales         4566 non-null   float64\n",
      "dtypes: float64(4), object(1)\n",
      "memory usage: 178.7+ KB\n"
     ]
    }
   ],
   "source": [
    "data.info()"
   ]
  },
  {
   "cell_type": "code",
   "execution_count": 6,
   "id": "6406abb4",
   "metadata": {},
   "outputs": [],
   "source": [
    "# Data Preprocessing\n",
    "\n",
    "#Part 1) Handling missing value\n",
    "\n",
    "# Rule 1 - Threshold value : 25% or more than 25% missing data\n",
    "# Approach - remove that particular column / row\n",
    "\n",
    "# Rule 2 - Less than 25% missing data\n",
    "# approach - \n",
    "    # a) check variable type (number or char)\n",
    "        # i) variable type - charactor/object\n",
    "        # approach - 'MODE' / Most Frequent occurance\n",
    "        \n",
    "        # ii) variable type - number (float / int)\n",
    "        # approach - first we have to check outlier \n",
    "            # a) Outlier found - \"Median\"\n",
    "            # b) Outlier not found - \"Mean\"\n",
    "            \n",
    "\n",
    "# Part 2 - Handling outlier treatment - this is only applicable for numeric variable\n",
    "# Rule 1 - threshold value - 25% or more than 25% outlier found\n",
    "# approach - check with your stakeholder/client whether we can remove that outlier or not\n",
    "# answer - remove or keep\n",
    "\n",
    "# keep - approach - Transformation approach\n",
    "# Transaformation approach (either more than 25% or less then 25%)\n",
    "# a) square root transformation\n",
    "# b) cube root transformation\n",
    "# c) log transformation\n",
    "# d) i) positive outlier = Q3 + 1.5 * IQR ii) Negetive outlier = Q1 - 1.5 *IQR\n",
    "# e) to do feature scaling (standarisation)\n",
    "\n",
    "# Advanced tech - Regularisation approach - Lasso / Ridge / ElasticNet method\n",
    "\n",
    "\n",
    "\n",
    "# Part 3 - Encoding concept - this is only applicable for char/object variable\n",
    "# To covert char to number\n",
    "# step 1 - Label Encoder - covert char to number in a sequence order\n",
    "# step 2 - One Hot Encoder - convert all number into individual variable and then assign binary value \n",
    "# step 3 - Dummy variable - remove one variable (n-1) \n",
    "    # why are we doing it ? - To avoid multicollinearity\n",
    "\n",
    "    \n",
    "# Part 4 - Feature Scaling\n",
    "    # approach - i) Standarisation and ii) Normalisation\n",
    "    \n",
    "    # i) Standarisation - when there is an outlier. it's range is -3 to +3. it gives both pos and neg value\n",
    "    # ii) Normalisation - when there is no outlier. it's range is 0 to 1. it gives only pos value\n",
    "# Part 5 - Imbalance dataset -\n",
    "\n"
   ]
  },
  {
   "cell_type": "code",
   "execution_count": 7,
   "id": "d9881740",
   "metadata": {},
   "outputs": [
    {
     "data": {
      "text/html": [
       "<div>\n",
       "<style scoped>\n",
       "    .dataframe tbody tr th:only-of-type {\n",
       "        vertical-align: middle;\n",
       "    }\n",
       "\n",
       "    .dataframe tbody tr th {\n",
       "        vertical-align: top;\n",
       "    }\n",
       "\n",
       "    .dataframe thead th {\n",
       "        text-align: right;\n",
       "    }\n",
       "</style>\n",
       "<table border=\"1\" class=\"dataframe\">\n",
       "  <thead>\n",
       "    <tr style=\"text-align: right;\">\n",
       "      <th></th>\n",
       "      <th>TV</th>\n",
       "      <th>Radio</th>\n",
       "      <th>Social Media</th>\n",
       "      <th>Influencer</th>\n",
       "      <th>Sales</th>\n",
       "    </tr>\n",
       "  </thead>\n",
       "  <tbody>\n",
       "    <tr>\n",
       "      <th>0</th>\n",
       "      <td>16.0</td>\n",
       "      <td>6.566231</td>\n",
       "      <td>2.907983</td>\n",
       "      <td>Mega</td>\n",
       "      <td>54.732757</td>\n",
       "    </tr>\n",
       "    <tr>\n",
       "      <th>1</th>\n",
       "      <td>13.0</td>\n",
       "      <td>9.237765</td>\n",
       "      <td>2.409567</td>\n",
       "      <td>Mega</td>\n",
       "      <td>46.677897</td>\n",
       "    </tr>\n",
       "    <tr>\n",
       "      <th>2</th>\n",
       "      <td>41.0</td>\n",
       "      <td>15.886446</td>\n",
       "      <td>2.913410</td>\n",
       "      <td>Mega</td>\n",
       "      <td>150.177829</td>\n",
       "    </tr>\n",
       "    <tr>\n",
       "      <th>3</th>\n",
       "      <td>83.0</td>\n",
       "      <td>30.020028</td>\n",
       "      <td>6.922304</td>\n",
       "      <td>Mega</td>\n",
       "      <td>298.246340</td>\n",
       "    </tr>\n",
       "    <tr>\n",
       "      <th>4</th>\n",
       "      <td>15.0</td>\n",
       "      <td>8.437408</td>\n",
       "      <td>1.405998</td>\n",
       "      <td>Micro</td>\n",
       "      <td>56.594181</td>\n",
       "    </tr>\n",
       "    <tr>\n",
       "      <th>5</th>\n",
       "      <td>29.0</td>\n",
       "      <td>9.614382</td>\n",
       "      <td>1.027163</td>\n",
       "      <td>Mega</td>\n",
       "      <td>105.889148</td>\n",
       "    </tr>\n",
       "    <tr>\n",
       "      <th>6</th>\n",
       "      <td>55.0</td>\n",
       "      <td>24.893811</td>\n",
       "      <td>4.273602</td>\n",
       "      <td>Micro</td>\n",
       "      <td>198.679825</td>\n",
       "    </tr>\n",
       "    <tr>\n",
       "      <th>7</th>\n",
       "      <td>31.0</td>\n",
       "      <td>17.355042</td>\n",
       "      <td>2.289855</td>\n",
       "      <td>Nano</td>\n",
       "      <td>108.733932</td>\n",
       "    </tr>\n",
       "    <tr>\n",
       "      <th>8</th>\n",
       "      <td>76.0</td>\n",
       "      <td>24.648898</td>\n",
       "      <td>7.130116</td>\n",
       "      <td>Macro</td>\n",
       "      <td>270.189400</td>\n",
       "    </tr>\n",
       "    <tr>\n",
       "      <th>9</th>\n",
       "      <td>13.0</td>\n",
       "      <td>0.431128</td>\n",
       "      <td>2.229423</td>\n",
       "      <td>Mega</td>\n",
       "      <td>48.280582</td>\n",
       "    </tr>\n",
       "  </tbody>\n",
       "</table>\n",
       "</div>"
      ],
      "text/plain": [
       "     TV      Radio  Social Media Influencer       Sales\n",
       "0  16.0   6.566231      2.907983       Mega   54.732757\n",
       "1  13.0   9.237765      2.409567       Mega   46.677897\n",
       "2  41.0  15.886446      2.913410       Mega  150.177829\n",
       "3  83.0  30.020028      6.922304       Mega  298.246340\n",
       "4  15.0   8.437408      1.405998      Micro   56.594181\n",
       "5  29.0   9.614382      1.027163       Mega  105.889148\n",
       "6  55.0  24.893811      4.273602      Micro  198.679825\n",
       "7  31.0  17.355042      2.289855       Nano  108.733932\n",
       "8  76.0  24.648898      7.130116      Macro  270.189400\n",
       "9  13.0   0.431128      2.229423       Mega   48.280582"
      ]
     },
     "execution_count": 7,
     "metadata": {},
     "output_type": "execute_result"
    }
   ],
   "source": [
    "data.head(10)"
   ]
  },
  {
   "cell_type": "code",
   "execution_count": 8,
   "id": "b16fc17a",
   "metadata": {
    "scrolled": true
   },
   "outputs": [
    {
     "data": {
      "text/plain": [
       "TV              10\n",
       "Radio            4\n",
       "Social Media     6\n",
       "Influencer       0\n",
       "Sales            6\n",
       "dtype: int64"
      ]
     },
     "execution_count": 8,
     "metadata": {},
     "output_type": "execute_result"
    }
   ],
   "source": [
    "#Part 1 checking for missing data\n",
    "data.isnull().sum()"
   ]
  },
  {
   "cell_type": "code",
   "execution_count": 9,
   "id": "b820b28d",
   "metadata": {
    "scrolled": true
   },
   "outputs": [
    {
     "data": {
      "text/plain": [
       "TV              0.218723\n",
       "Radio           0.087489\n",
       "Social Media    0.131234\n",
       "Influencer      0.000000\n",
       "Sales           0.131234\n",
       "dtype: float64"
      ]
     },
     "execution_count": 9,
     "metadata": {},
     "output_type": "execute_result"
    }
   ],
   "source": [
    "#check for percentage of missing data \n",
    "data.isnull().sum()/len(data)*100\n"
   ]
  },
  {
   "cell_type": "code",
   "execution_count": 10,
   "id": "2904d581",
   "metadata": {},
   "outputs": [],
   "source": [
    "#the percentage of missing data is not 25% and more so we cannot drop any column\n",
    "\n",
    "#Part1. Missing data is categorical in nature \n",
    "    # No missing data is present in categorical field i.e Influencer"
   ]
  },
  {
   "cell_type": "code",
   "execution_count": 11,
   "id": "29658214",
   "metadata": {
    "scrolled": true
   },
   "outputs": [
    {
     "data": {
      "text/plain": [
       "<AxesSubplot:ylabel='TV'>"
      ]
     },
     "execution_count": 11,
     "metadata": {},
     "output_type": "execute_result"
    },
    {
     "data": {
      "image/png": "[encoded data removed]",
      "text/plain": [
       "<Figure size 432x288 with 1 Axes>"
      ]
     },
     "metadata": {
      "needs_background": "light"
     },
     "output_type": "display_data"
    }
   ],
   "source": [
    "#Part2. Missing data is numerical in nature i.e. Age, Fare\n",
    "      # Check for outliers\n",
    "sns.boxplot(y=\"TV\",data=data)\n"
   ]
  },
  {
   "cell_type": "code",
   "execution_count": 12,
   "id": "e6c83d5a",
   "metadata": {},
   "outputs": [
    {
     "data": {
      "text/plain": [
       "<AxesSubplot:ylabel='Radio'>"
      ]
     },
     "execution_count": 12,
     "metadata": {},
     "output_type": "execute_result"
    },
    {
     "data": {
      "image/png": "[encoded data removed]",
      "text/plain": [
       "<Figure size 432x288 with 1 Axes>"
      ]
     },
     "metadata": {
      "needs_background": "light"
     },
     "output_type": "display_data"
    }
   ],
   "source": [
    "sns.boxplot(y=\"Radio\",data=data)"
   ]
  },
  {
   "cell_type": "code",
   "execution_count": 13,
   "id": "a42dda8e",
   "metadata": {},
   "outputs": [
    {
     "data": {
      "text/plain": [
       "<AxesSubplot:ylabel='Social Media'>"
      ]
     },
     "execution_count": 13,
     "metadata": {},
     "output_type": "execute_result"
    },
    {
     "data": {
      "image/png": "[encoded data removed]",
      "text/plain": [
       "<Figure size 432x288 with 1 Axes>"
      ]
     },
     "metadata": {
      "needs_background": "light"
     },
     "output_type": "display_data"
    }
   ],
   "source": [
    "sns.boxplot(y=\"Social Media\",data=data)"
   ]
  },
  {
   "cell_type": "code",
   "execution_count": 14,
   "id": "3d461eb2",
   "metadata": {},
   "outputs": [
    {
     "data": {
      "text/plain": [
       "<AxesSubplot:ylabel='Sales'>"
      ]
     },
     "execution_count": 14,
     "metadata": {},
     "output_type": "execute_result"
    },
    {
     "data": {
      "image/png": "[encoded data removed]",
      "text/plain": [
       "<Figure size 432x288 with 1 Axes>"
      ]
     },
     "metadata": {
      "needs_background": "light"
     },
     "output_type": "display_data"
    }
   ],
   "source": [
    "sns.boxplot(y=\"Sales\",data=data)"
   ]
  },
  {
   "cell_type": "code",
   "execution_count": 15,
   "id": "4948b883",
   "metadata": {},
   "outputs": [],
   "source": [
    "#No outlier is present numerical fields that is TV, Radio and Sales\n",
    "#So missing data can be replaced with mean value \n"
   ]
  },
  {
   "cell_type": "code",
   "execution_count": 16,
   "id": "1251231c",
   "metadata": {},
   "outputs": [],
   "source": [
    "data[\"TV\"]=data[\"TV\"].fillna(data[\"TV\"].mean())\n",
    "data[\"Radio\"]=data[\"Radio\"].fillna(data[\"Radio\"].mean())\n",
    "data[\"Sales\"]=data[\"Sales\"].fillna(data[\"Sales\"].mean())"
   ]
  },
  {
   "cell_type": "code",
   "execution_count": 17,
   "id": "3368db0e",
   "metadata": {},
   "outputs": [],
   "source": [
    "#Outlier is present in field Social media so missing data is filled with median"
   ]
  },
  {
   "cell_type": "code",
   "execution_count": 18,
   "id": "95df84a0",
   "metadata": {
    "scrolled": true
   },
   "outputs": [],
   "source": [
    "data[\"Social Media\"]=data[\"Social Media\"].fillna(data[\"Social Media\"].mean())"
   ]
  },
  {
   "cell_type": "code",
   "execution_count": 19,
   "id": "4ac81852",
   "metadata": {},
   "outputs": [
    {
     "data": {
      "text/plain": [
       "TV              0.0\n",
       "Radio           0.0\n",
       "Social Media    0.0\n",
       "Influencer      0.0\n",
       "Sales           0.0\n",
       "dtype: float64"
      ]
     },
     "execution_count": 19,
     "metadata": {},
     "output_type": "execute_result"
    }
   ],
   "source": [
    "data.isnull().sum()/len(data)*100"
   ]
  },
  {
   "cell_type": "code",
   "execution_count": 20,
   "id": "10e1cece",
   "metadata": {
    "scrolled": true
   },
   "outputs": [
    {
     "name": "stdout",
     "output_type": "stream",
     "text": [
      "<class 'pandas.core.frame.DataFrame'>\n",
      "RangeIndex: 4572 entries, 0 to 4571\n",
      "Data columns (total 5 columns):\n",
      " #   Column        Non-Null Count  Dtype  \n",
      "---  ------        --------------  -----  \n",
      " 0   TV            4572 non-null   float64\n",
      " 1   Radio         4572 non-null   float64\n",
      " 2   Social Media  4572 non-null   float64\n",
      " 3   Influencer    4572 non-null   object \n",
      " 4   Sales         4572 non-null   float64\n",
      "dtypes: float64(4), object(1)\n",
      "memory usage: 178.7+ KB\n"
     ]
    }
   ],
   "source": [
    "#Part2. Checking for outliers \n",
    "data.info()\n"
   ]
  },
  {
   "cell_type": "code",
   "execution_count": 21,
   "id": "7b172cc9",
   "metadata": {
    "scrolled": false
   },
   "outputs": [
    {
     "data": {
      "text/plain": [
       "TV                 AxesSubplot(0.125,0.536818;0.352273x0.343182)\n",
       "Radio           AxesSubplot(0.547727,0.536818;0.352273x0.343182)\n",
       "Social Media          AxesSubplot(0.125,0.125;0.352273x0.343182)\n",
       "Sales              AxesSubplot(0.547727,0.125;0.352273x0.343182)\n",
       "dtype: object"
      ]
     },
     "execution_count": 21,
     "metadata": {},
     "output_type": "execute_result"
    },
    {
     "data": {
      "image/png": "[encoded data removed]",
      "text/plain": [
       "<Figure size 720x720 with 4 Axes>"
      ]
     },
     "metadata": {
      "needs_background": "light"
     },
     "output_type": "display_data"
    }
   ],
   "source": [
    "data.plot(kind=\"box\", subplots=True, layout=(2,2), figsize=(10,10))"
   ]
  },
  {
   "cell_type": "code",
   "execution_count": 22,
   "id": "19fa9842",
   "metadata": {},
   "outputs": [
    {
     "data": {
      "text/html": [
       "<div>\n",
       "<style scoped>\n",
       "    .dataframe tbody tr th:only-of-type {\n",
       "        vertical-align: middle;\n",
       "    }\n",
       "\n",
       "    .dataframe tbody tr th {\n",
       "        vertical-align: top;\n",
       "    }\n",
       "\n",
       "    .dataframe thead th {\n",
       "        text-align: right;\n",
       "    }\n",
       "</style>\n",
       "<table border=\"1\" class=\"dataframe\">\n",
       "  <thead>\n",
       "    <tr style=\"text-align: right;\">\n",
       "      <th></th>\n",
       "      <th>TV</th>\n",
       "      <th>Radio</th>\n",
       "      <th>Social Media</th>\n",
       "      <th>Sales</th>\n",
       "    </tr>\n",
       "  </thead>\n",
       "  <tbody>\n",
       "    <tr>\n",
       "      <th>0</th>\n",
       "      <td>16.0</td>\n",
       "      <td>6.566231</td>\n",
       "      <td>2.907983</td>\n",
       "      <td>54.732757</td>\n",
       "    </tr>\n",
       "    <tr>\n",
       "      <th>1</th>\n",
       "      <td>13.0</td>\n",
       "      <td>9.237765</td>\n",
       "      <td>2.409567</td>\n",
       "      <td>46.677897</td>\n",
       "    </tr>\n",
       "    <tr>\n",
       "      <th>2</th>\n",
       "      <td>41.0</td>\n",
       "      <td>15.886446</td>\n",
       "      <td>2.913410</td>\n",
       "      <td>150.177829</td>\n",
       "    </tr>\n",
       "    <tr>\n",
       "      <th>3</th>\n",
       "      <td>83.0</td>\n",
       "      <td>30.020028</td>\n",
       "      <td>6.922304</td>\n",
       "      <td>298.246340</td>\n",
       "    </tr>\n",
       "    <tr>\n",
       "      <th>4</th>\n",
       "      <td>15.0</td>\n",
       "      <td>8.437408</td>\n",
       "      <td>1.405998</td>\n",
       "      <td>56.594181</td>\n",
       "    </tr>\n",
       "  </tbody>\n",
       "</table>\n",
       "</div>"
      ],
      "text/plain": [
       "     TV      Radio  Social Media       Sales\n",
       "0  16.0   6.566231      2.907983   54.732757\n",
       "1  13.0   9.237765      2.409567   46.677897\n",
       "2  41.0  15.886446      2.913410  150.177829\n",
       "3  83.0  30.020028      6.922304  298.246340\n",
       "4  15.0   8.437408      1.405998   56.594181"
      ]
     },
     "execution_count": 22,
     "metadata": {},
     "output_type": "execute_result"
    }
   ],
   "source": [
    "x = data.iloc[:,[0,1,2,4]]\n",
    "x.head()"
   ]
  },
  {
   "cell_type": "code",
   "execution_count": 23,
   "id": "cd81e533",
   "metadata": {},
   "outputs": [
    {
     "name": "stdout",
     "output_type": "stream",
     "text": [
      "pos_outlier TV              144.500000\n",
      "Radio            48.298910\n",
      "Social Media      9.719761\n",
      "Sales           512.440794\n",
      "dtype: float64\n",
      "neg_outlier TV              -35.500000\n",
      "Radio           -12.104915\n",
      "Social Media     -3.384051\n",
      "Sales          -127.628220\n",
      "dtype: float64\n"
     ]
    }
   ],
   "source": [
    "Q1 = x.quantile(0.25)\n",
    "Q3 = x.quantile(0.75)\n",
    "IQR = Q3 - Q1\n",
    "pos_outlier = Q3 + 1.5 * IQR\n",
    "neg_outlier = Q1 - 1.5 * IQR\n",
    "print(\"pos_outlier\",pos_outlier)\n",
    "print(\"neg_outlier\",neg_outlier)"
   ]
  },
  {
   "cell_type": "code",
   "execution_count": 24,
   "id": "f8d47416",
   "metadata": {},
   "outputs": [],
   "source": [
    "def find_outliers_IQR(df):\n",
    "    q1=df.quantile(0.25)\n",
    "    q3=df.quantile(0.75)\n",
    "    IQR=q3-q1\n",
    "    outliers = df[((df<(q1-1.5*IQR)) | (df>(q3+1.5*IQR)))]\n",
    "    return outliers"
   ]
  },
  {
   "cell_type": "code",
   "execution_count": 25,
   "id": "141113e7",
   "metadata": {},
   "outputs": [
    {
     "name": "stdout",
     "output_type": "stream",
     "text": [
      "number of outliers: 1\n",
      "percentage of outliers:  0.07639419404125286\n",
      "max outlier value: 48.87116125\n",
      "min outlier value: 48.87116125\n"
     ]
    },
    {
     "data": {
      "text/plain": [
       "4331    48.871161\n",
       "Name: Radio, dtype: float64"
      ]
     },
     "execution_count": 25,
     "metadata": {},
     "output_type": "execute_result"
    }
   ],
   "source": [
    "outliers = find_outliers_IQR(data[\"Radio\"])\n",
    "print(\"number of outliers: \"+ str(len(outliers)))\n",
    "print(\"percentage of outliers: \", len(outliers)/1309*100)\n",
    "print(\"max outlier value: \"+ str(outliers.max()))\n",
    "print(\"min outlier value: \"+ str(outliers.min()))\n",
    "outliers"
   ]
  },
  {
   "cell_type": "code",
   "execution_count": 26,
   "id": "61265660",
   "metadata": {},
   "outputs": [
    {
     "name": "stdout",
     "output_type": "stream",
     "text": [
      "number of outliers: 28\n",
      "percentage of outliers:  2.13903743315508\n",
      "max outlier value: 13.98166208\n",
      "min outlier value: 9.751647012\n"
     ]
    },
    {
     "data": {
      "text/plain": [
       "140      9.997472\n",
       "212      9.904286\n",
       "468     10.453921\n",
       "504     11.403625\n",
       "558     10.174983\n",
       "603     10.260554\n",
       "867     13.083957\n",
       "1235    10.420853\n",
       "1363     9.883176\n",
       "1412    11.260430\n",
       "1468    10.243735\n",
       "1872    10.063746\n",
       "1929    10.260188\n",
       "2050    10.337978\n",
       "2091    12.108017\n",
       "2096    11.534626\n",
       "2295    11.964333\n",
       "2346    13.981662\n",
       "2418    10.610895\n",
       "2772    10.030244\n",
       "3094    10.214807\n",
       "3302     9.855091\n",
       "3500    12.054749\n",
       "3786     9.751647\n",
       "3801    10.188755\n",
       "4178    10.297643\n",
       "4279    10.455109\n",
       "4375    10.127667\n",
       "Name: Social Media, dtype: float64"
      ]
     },
     "execution_count": 26,
     "metadata": {},
     "output_type": "execute_result"
    }
   ],
   "source": [
    "outliers = find_outliers_IQR(data[\"Social Media\"])\n",
    "print(\"number of outliers: \"+ str(len(outliers)))\n",
    "print(\"percentage of outliers: \", len(outliers)/1309*100)\n",
    "print(\"max outlier value: \"+ str(outliers.max()))\n",
    "print(\"min outlier value: \"+ str(outliers.min()))\n",
    "outliers"
   ]
  },
  {
   "cell_type": "code",
   "execution_count": 27,
   "id": "2964fef9",
   "metadata": {},
   "outputs": [],
   "source": [
    "#No Column i,e RADIO AND SOCIAL MEDIA  has outliers more than 25% so we cant drop any column \n",
    "#Outlier treatment"
   ]
  },
  {
   "cell_type": "code",
   "execution_count": 28,
   "id": "d420b56f",
   "metadata": {},
   "outputs": [],
   "source": [
    "#creating copy of original set\n",
    "data1=data.copy()"
   ]
  },
  {
   "cell_type": "code",
   "execution_count": 29,
   "id": "a5145fb1",
   "metadata": {},
   "outputs": [
    {
     "name": "stderr",
     "output_type": "stream",
     "text": [
      "/var/folders/5b/12xkc9vj1yg98rwcq_v34v_00000gn/T/ipykernel_20308/2587858096.py:2: FutureWarning: Automatic reindexing on DataFrame vs Series comparisons is deprecated and will raise ValueError in a future version.  Do `left, right = left.align(right, axis=1, copy=False)` before e.g. `left == right`\n",
      "  data[~((data<(Q1 - 1.5 *IQR)) | (data > (Q3 + 1.5 *IQR))).any(axis=1)]\n"
     ]
    },
    {
     "data": {
      "text/html": [
       "<div>\n",
       "<style scoped>\n",
       "    .dataframe tbody tr th:only-of-type {\n",
       "        vertical-align: middle;\n",
       "    }\n",
       "\n",
       "    .dataframe tbody tr th {\n",
       "        vertical-align: top;\n",
       "    }\n",
       "\n",
       "    .dataframe thead th {\n",
       "        text-align: right;\n",
       "    }\n",
       "</style>\n",
       "<table border=\"1\" class=\"dataframe\">\n",
       "  <thead>\n",
       "    <tr style=\"text-align: right;\">\n",
       "      <th></th>\n",
       "      <th>TV</th>\n",
       "      <th>Radio</th>\n",
       "      <th>Social Media</th>\n",
       "      <th>Influencer</th>\n",
       "      <th>Sales</th>\n",
       "    </tr>\n",
       "  </thead>\n",
       "  <tbody>\n",
       "    <tr>\n",
       "      <th>0</th>\n",
       "      <td>16.0</td>\n",
       "      <td>6.566231</td>\n",
       "      <td>2.907983</td>\n",
       "      <td>Mega</td>\n",
       "      <td>54.732757</td>\n",
       "    </tr>\n",
       "    <tr>\n",
       "      <th>1</th>\n",
       "      <td>13.0</td>\n",
       "      <td>9.237765</td>\n",
       "      <td>2.409567</td>\n",
       "      <td>Mega</td>\n",
       "      <td>46.677897</td>\n",
       "    </tr>\n",
       "    <tr>\n",
       "      <th>2</th>\n",
       "      <td>41.0</td>\n",
       "      <td>15.886446</td>\n",
       "      <td>2.913410</td>\n",
       "      <td>Mega</td>\n",
       "      <td>150.177829</td>\n",
       "    </tr>\n",
       "    <tr>\n",
       "      <th>3</th>\n",
       "      <td>83.0</td>\n",
       "      <td>30.020028</td>\n",
       "      <td>6.922304</td>\n",
       "      <td>Mega</td>\n",
       "      <td>298.246340</td>\n",
       "    </tr>\n",
       "    <tr>\n",
       "      <th>4</th>\n",
       "      <td>15.0</td>\n",
       "      <td>8.437408</td>\n",
       "      <td>1.405998</td>\n",
       "      <td>Micro</td>\n",
       "      <td>56.594181</td>\n",
       "    </tr>\n",
       "    <tr>\n",
       "      <th>...</th>\n",
       "      <td>...</td>\n",
       "      <td>...</td>\n",
       "      <td>...</td>\n",
       "      <td>...</td>\n",
       "      <td>...</td>\n",
       "    </tr>\n",
       "    <tr>\n",
       "      <th>4567</th>\n",
       "      <td>26.0</td>\n",
       "      <td>4.472360</td>\n",
       "      <td>0.717090</td>\n",
       "      <td>Micro</td>\n",
       "      <td>94.685866</td>\n",
       "    </tr>\n",
       "    <tr>\n",
       "      <th>4568</th>\n",
       "      <td>71.0</td>\n",
       "      <td>20.610685</td>\n",
       "      <td>6.545573</td>\n",
       "      <td>Nano</td>\n",
       "      <td>249.101915</td>\n",
       "    </tr>\n",
       "    <tr>\n",
       "      <th>4569</th>\n",
       "      <td>44.0</td>\n",
       "      <td>19.800072</td>\n",
       "      <td>5.096192</td>\n",
       "      <td>Micro</td>\n",
       "      <td>163.631457</td>\n",
       "    </tr>\n",
       "    <tr>\n",
       "      <th>4570</th>\n",
       "      <td>71.0</td>\n",
       "      <td>17.534640</td>\n",
       "      <td>1.940873</td>\n",
       "      <td>Macro</td>\n",
       "      <td>253.610411</td>\n",
       "    </tr>\n",
       "    <tr>\n",
       "      <th>4571</th>\n",
       "      <td>42.0</td>\n",
       "      <td>15.966688</td>\n",
       "      <td>5.046548</td>\n",
       "      <td>Micro</td>\n",
       "      <td>148.202414</td>\n",
       "    </tr>\n",
       "  </tbody>\n",
       "</table>\n",
       "<p>4543 rows × 5 columns</p>\n",
       "</div>"
      ],
      "text/plain": [
       "        TV      Radio  Social Media Influencer       Sales\n",
       "0     16.0   6.566231      2.907983       Mega   54.732757\n",
       "1     13.0   9.237765      2.409567       Mega   46.677897\n",
       "2     41.0  15.886446      2.913410       Mega  150.177829\n",
       "3     83.0  30.020028      6.922304       Mega  298.246340\n",
       "4     15.0   8.437408      1.405998      Micro   56.594181\n",
       "...    ...        ...           ...        ...         ...\n",
       "4567  26.0   4.472360      0.717090      Micro   94.685866\n",
       "4568  71.0  20.610685      6.545573       Nano  249.101915\n",
       "4569  44.0  19.800072      5.096192      Micro  163.631457\n",
       "4570  71.0  17.534640      1.940873      Macro  253.610411\n",
       "4571  42.0  15.966688      5.046548      Micro  148.202414\n",
       "\n",
       "[4543 rows x 5 columns]"
      ]
     },
     "execution_count": 29,
     "metadata": {},
     "output_type": "execute_result"
    }
   ],
   "source": [
    "#1.Removing outliers\n",
    "data[~((data<(Q1 - 1.5 *IQR)) | (data > (Q3 + 1.5 *IQR))).any(axis=1)]"
   ]
  },
  {
   "cell_type": "code",
   "execution_count": 31,
   "id": "cd8221c1",
   "metadata": {},
   "outputs": [
    {
     "data": {
      "text/html": [
       "<div>\n",
       "<style scoped>\n",
       "    .dataframe tbody tr th:only-of-type {\n",
       "        vertical-align: middle;\n",
       "    }\n",
       "\n",
       "    .dataframe tbody tr th {\n",
       "        vertical-align: top;\n",
       "    }\n",
       "\n",
       "    .dataframe thead th {\n",
       "        text-align: right;\n",
       "    }\n",
       "</style>\n",
       "<table border=\"1\" class=\"dataframe\">\n",
       "  <thead>\n",
       "    <tr style=\"text-align: right;\">\n",
       "      <th></th>\n",
       "      <th>TV</th>\n",
       "      <th>Radio</th>\n",
       "      <th>Social Media</th>\n",
       "      <th>Influencer</th>\n",
       "      <th>Sales</th>\n",
       "    </tr>\n",
       "  </thead>\n",
       "  <tbody>\n",
       "    <tr>\n",
       "      <th>0</th>\n",
       "      <td>16.0</td>\n",
       "      <td>2.562466</td>\n",
       "      <td>1.705281</td>\n",
       "      <td>Mega</td>\n",
       "      <td>54.732757</td>\n",
       "    </tr>\n",
       "    <tr>\n",
       "      <th>1</th>\n",
       "      <td>13.0</td>\n",
       "      <td>3.039369</td>\n",
       "      <td>1.552278</td>\n",
       "      <td>Mega</td>\n",
       "      <td>46.677897</td>\n",
       "    </tr>\n",
       "    <tr>\n",
       "      <th>2</th>\n",
       "      <td>41.0</td>\n",
       "      <td>3.985780</td>\n",
       "      <td>1.706871</td>\n",
       "      <td>Mega</td>\n",
       "      <td>150.177829</td>\n",
       "    </tr>\n",
       "    <tr>\n",
       "      <th>3</th>\n",
       "      <td>83.0</td>\n",
       "      <td>5.479054</td>\n",
       "      <td>2.631027</td>\n",
       "      <td>Mega</td>\n",
       "      <td>298.246340</td>\n",
       "    </tr>\n",
       "    <tr>\n",
       "      <th>4</th>\n",
       "      <td>15.0</td>\n",
       "      <td>2.904722</td>\n",
       "      <td>1.185748</td>\n",
       "      <td>Micro</td>\n",
       "      <td>56.594181</td>\n",
       "    </tr>\n",
       "    <tr>\n",
       "      <th>...</th>\n",
       "      <td>...</td>\n",
       "      <td>...</td>\n",
       "      <td>...</td>\n",
       "      <td>...</td>\n",
       "      <td>...</td>\n",
       "    </tr>\n",
       "    <tr>\n",
       "      <th>4567</th>\n",
       "      <td>26.0</td>\n",
       "      <td>2.114796</td>\n",
       "      <td>0.846812</td>\n",
       "      <td>Micro</td>\n",
       "      <td>94.685866</td>\n",
       "    </tr>\n",
       "    <tr>\n",
       "      <th>4568</th>\n",
       "      <td>71.0</td>\n",
       "      <td>4.539899</td>\n",
       "      <td>2.558432</td>\n",
       "      <td>Nano</td>\n",
       "      <td>249.101915</td>\n",
       "    </tr>\n",
       "    <tr>\n",
       "      <th>4569</th>\n",
       "      <td>44.0</td>\n",
       "      <td>4.449727</td>\n",
       "      <td>2.257475</td>\n",
       "      <td>Micro</td>\n",
       "      <td>163.631457</td>\n",
       "    </tr>\n",
       "    <tr>\n",
       "      <th>4570</th>\n",
       "      <td>71.0</td>\n",
       "      <td>4.187438</td>\n",
       "      <td>1.393152</td>\n",
       "      <td>Macro</td>\n",
       "      <td>253.610411</td>\n",
       "    </tr>\n",
       "    <tr>\n",
       "      <th>4571</th>\n",
       "      <td>42.0</td>\n",
       "      <td>3.995834</td>\n",
       "      <td>2.246452</td>\n",
       "      <td>Micro</td>\n",
       "      <td>148.202414</td>\n",
       "    </tr>\n",
       "  </tbody>\n",
       "</table>\n",
       "<p>4572 rows × 5 columns</p>\n",
       "</div>"
      ],
      "text/plain": [
       "        TV     Radio  Social Media Influencer       Sales\n",
       "0     16.0  2.562466      1.705281       Mega   54.732757\n",
       "1     13.0  3.039369      1.552278       Mega   46.677897\n",
       "2     41.0  3.985780      1.706871       Mega  150.177829\n",
       "3     83.0  5.479054      2.631027       Mega  298.246340\n",
       "4     15.0  2.904722      1.185748      Micro   56.594181\n",
       "...    ...       ...           ...        ...         ...\n",
       "4567  26.0  2.114796      0.846812      Micro   94.685866\n",
       "4568  71.0  4.539899      2.558432       Nano  249.101915\n",
       "4569  44.0  4.449727      2.257475      Micro  163.631457\n",
       "4570  71.0  4.187438      1.393152      Macro  253.610411\n",
       "4571  42.0  3.995834      2.246452      Micro  148.202414\n",
       "\n",
       "[4572 rows x 5 columns]"
      ]
     },
     "execution_count": 31,
     "metadata": {},
     "output_type": "execute_result"
    }
   ],
   "source": [
    "#2.square root transformation \n",
    "data1[\"Radio\"]=np.sqrt(data1[\"Radio\"])\n",
    "data1[\"Social Media\"]=np.sqrt(data1[\"Social Media\"])\n"
   ]
  },
  {
   "cell_type": "code",
   "execution_count": 39,
   "id": "6f9e2c3e",
   "metadata": {},
   "outputs": [
    {
     "name": "stdout",
     "output_type": "stream",
     "text": [
      "number of outliers: 23\n",
      "percentage of outliers:  0.5030621172353456\n",
      "max outlier value: 0.4831547226303392\n",
      "min outlier value: 0.026152399507502175\n"
     ]
    },
    {
     "data": {
      "text/plain": [
       "14      0.475738\n",
       "923     0.308297\n",
       "1290    0.464867\n",
       "1798    0.207563\n",
       "1821    0.385585\n",
       "1855    0.469931\n",
       "1979    0.423859\n",
       "2130    0.330311\n",
       "2144    0.321800\n",
       "2252    0.446968\n",
       "2408    0.257143\n",
       "2549    0.120360\n",
       "2595    0.483155\n",
       "3134    0.466937\n",
       "3479    0.363893\n",
       "3497    0.195322\n",
       "3828    0.026152\n",
       "3830    0.290129\n",
       "3896    0.441108\n",
       "4054    0.464091\n",
       "4191    0.162159\n",
       "4440    0.453475\n",
       "4560    0.147928\n",
       "Name: Radio, dtype: float64"
      ]
     },
     "execution_count": 39,
     "metadata": {},
     "output_type": "execute_result"
    }
   ],
   "source": [
    "outliers = find_outliers_IQR(data1[\"Radio\"])\n",
    "print(\"number of outliers: \"+ str(len(outliers)))\n",
    "print(\"percentage of outliers: \", len(outliers)/4572*100)\n",
    "print(\"max outlier value: \"+ str(outliers.max()))\n",
    "print(\"min outlier value: \"+ str(outliers.min()))\n",
    "outliers"
   ]
  },
  {
   "cell_type": "code",
   "execution_count": 40,
   "id": "a1baee80",
   "metadata": {},
   "outputs": [
    {
     "name": "stdout",
     "output_type": "stream",
     "text": [
      "number of outliers: 1\n",
      "percentage of outliers:  0.021872265966754158\n",
      "max outlier value: 3.739206076161088\n",
      "min outlier value: 3.739206076161088\n"
     ]
    },
    {
     "data": {
      "text/plain": [
       "2346    3.739206\n",
       "Name: Social Media, dtype: float64"
      ]
     },
     "execution_count": 40,
     "metadata": {},
     "output_type": "execute_result"
    }
   ],
   "source": [
    "outliers = find_outliers_IQR(data1[\"Social Media\"])\n",
    "print(\"number of outliers: \"+ str(len(outliers)))\n",
    "print(\"percentage of outliers: \", len(outliers)/4572*100)\n",
    "print(\"max outlier value: \"+ str(outliers.max()))\n",
    "print(\"min outlier value: \"+ str(outliers.min()))\n",
    "outliers"
   ]
  },
  {
   "cell_type": "code",
   "execution_count": 42,
   "id": "daed7471",
   "metadata": {},
   "outputs": [],
   "source": [
    "#2.cube root transformation \n",
    "data2=data.copy()\n",
    "data2[\"Radio\"]=np.cbrt(data2[\"Radio\"])\n",
    "data2[\"Social Media\"]=np.cbrt(data2[\"Social Media\"])"
   ]
  },
  {
   "cell_type": "code",
   "execution_count": 43,
   "id": "f1fe4230",
   "metadata": {},
   "outputs": [
    {
     "name": "stdout",
     "output_type": "stream",
     "text": [
      "number of outliers: 84\n",
      "percentage of outliers:  1.837270341207349\n",
      "max outlier value: 1.0567118346660522\n",
      "min outlier value: 0.08810644831892361\n"
     ]
    },
    {
     "data": {
      "text/plain": [
       "9       0.755444\n",
       "14      0.609413\n",
       "47      0.856180\n",
       "91      0.911806\n",
       "158     0.912008\n",
       "          ...   \n",
       "4432    0.737817\n",
       "4440    0.590249\n",
       "4463    0.978316\n",
       "4506    1.009661\n",
       "4560    0.279705\n",
       "Name: Radio, Length: 84, dtype: float64"
      ]
     },
     "execution_count": 43,
     "metadata": {},
     "output_type": "execute_result"
    }
   ],
   "source": [
    "outliers = find_outliers_IQR(data2[\"Radio\"])\n",
    "print(\"number of outliers: \"+ str(len(outliers)))\n",
    "print(\"percentage of outliers: \", len(outliers)/4572*100)\n",
    "print(\"max outlier value: \"+ str(outliers.max()))\n",
    "print(\"min outlier value: \"+ str(outliers.min()))\n",
    "outliers"
   ]
  },
  {
   "cell_type": "code",
   "execution_count": 44,
   "id": "52905599",
   "metadata": {},
   "outputs": [
    {
     "name": "stdout",
     "output_type": "stream",
     "text": [
      "number of outliers: 43\n",
      "percentage of outliers:  0.9403017712661274\n",
      "max outlier value: 0.3462020632459915\n",
      "min outlier value: 0.031514816243220646\n"
     ]
    },
    {
     "data": {
      "text/plain": [
       "48      0.346202\n",
       "113     0.147004\n",
       "196     0.236513\n",
       "205     0.229819\n",
       "231     0.225394\n",
       "237     0.274307\n",
       "255     0.303923\n",
       "317     0.245032\n",
       "724     0.309651\n",
       "761     0.208719\n",
       "866     0.343912\n",
       "911     0.249273\n",
       "1083    0.298272\n",
       "1102    0.293979\n",
       "1507    0.319412\n",
       "1610    0.247594\n",
       "1754    0.305759\n",
       "1799    0.031515\n",
       "1885    0.252595\n",
       "2368    0.345463\n",
       "2464    0.321765\n",
       "2535    0.238852\n",
       "2590    0.340290\n",
       "2633    0.306684\n",
       "2780    0.109568\n",
       "2827    0.334290\n",
       "2886    0.322839\n",
       "3140    0.277083\n",
       "3166    0.268297\n",
       "3208    0.257185\n",
       "3388    0.286225\n",
       "3473    0.284837\n",
       "3976    0.310855\n",
       "4000    0.259017\n",
       "4118    0.282304\n",
       "4133    0.290286\n",
       "4135    0.211991\n",
       "4303    0.336691\n",
       "4328    0.099213\n",
       "4399    0.313144\n",
       "4420    0.305209\n",
       "4502    0.244376\n",
       "4545    0.216790\n",
       "Name: Social Media, dtype: float64"
      ]
     },
     "execution_count": 44,
     "metadata": {},
     "output_type": "execute_result"
    }
   ],
   "source": [
    "outliers = find_outliers_IQR(data2[\"Social Media\"])\n",
    "print(\"number of outliers: \"+ str(len(outliers)))\n",
    "print(\"percentage of outliers: \", len(outliers)/4573*100)\n",
    "print(\"max outlier value: \"+ str(outliers.max()))\n",
    "print(\"min outlier value: \"+ str(outliers.min()))\n",
    "outliers"
   ]
  },
  {
   "cell_type": "code",
   "execution_count": 45,
   "id": "777013fb",
   "metadata": {},
   "outputs": [],
   "source": [
    "#3. logartihm  transformation \n",
    "data3=data.copy()\n",
    "data3[\"Radio\"]=np.log10(data3[\"Radio\"])\n",
    "data3[\"Social Media\"]=np.log10(data3[\"Social Media\"])"
   ]
  },
  {
   "cell_type": "code",
   "execution_count": 46,
   "id": "32691f07",
   "metadata": {},
   "outputs": [
    {
     "name": "stdout",
     "output_type": "stream",
     "text": [
      "number of outliers: 228\n",
      "percentage of outliers:  4.986876640419948\n",
      "max outlier value: 0.4435942021494173\n",
      "min outlier value: -3.164976916074522\n"
     ]
    },
    {
     "data": {
      "text/plain": [
       "9      -0.365394\n",
       "14     -0.645265\n",
       "47     -0.202304\n",
       "69      0.349140\n",
       "84      0.217009\n",
       "          ...   \n",
       "4506    0.012527\n",
       "4545    0.416824\n",
       "4560   -1.659901\n",
       "4565    0.173242\n",
       "4566    0.369071\n",
       "Name: Radio, Length: 228, dtype: float64"
      ]
     },
     "execution_count": 46,
     "metadata": {},
     "output_type": "execute_result"
    }
   ],
   "source": [
    "outliers = find_outliers_IQR(data3[\"Radio\"])\n",
    "print(\"number of outliers: \"+ str(len(outliers)))\n",
    "print(\"percentage of outliers: \", len(outliers)/4572*100)\n",
    "print(\"max outlier value: \"+ str(outliers.max()))\n",
    "print(\"min outlier value: \"+ str(outliers.min()))\n",
    "outliers"
   ]
  },
  {
   "cell_type": "code",
   "execution_count": 47,
   "id": "efbcbaac",
   "metadata": {},
   "outputs": [
    {
     "name": "stdout",
     "output_type": "stream",
     "text": [
      "number of outliers: 209\n",
      "percentage of outliers:  4.571303587051618\n",
      "max outlier value: -0.5615355749060391\n",
      "min outlier value: -4.504455662453552\n"
     ]
    },
    {
     "data": {
      "text/plain": [
       "15     -1.218950\n",
       "48     -1.382011\n",
       "113    -2.498016\n",
       "153    -0.741204\n",
       "196    -1.878435\n",
       "          ...   \n",
       "4438   -1.050986\n",
       "4461   -0.695850\n",
       "4502   -1.835822\n",
       "4545   -1.991881\n",
       "4547   -0.770914\n",
       "Name: Social Media, Length: 209, dtype: float64"
      ]
     },
     "execution_count": 47,
     "metadata": {},
     "output_type": "execute_result"
    }
   ],
   "source": [
    "outliers = find_outliers_IQR(data3[\"Social Media\"])\n",
    "print(\"number of outliers: \"+ str(len(outliers)))\n",
    "print(\"percentage of outliers: \", len(outliers)/4572*100)\n",
    "print(\"max outlier value: \"+ str(outliers.max()))\n",
    "print(\"min outlier value: \"+ str(outliers.min()))\n",
    "outliers"
   ]
  },
  {
   "cell_type": "code",
   "execution_count": null,
   "id": "52e963bf",
   "metadata": {},
   "outputs": [],
   "source": [
    "#outlier percentage decrease in fare but not in age \n",
    "#We can use capping technique and any of above as per discussion by vendor/client\n"
   ]
  },
  {
   "cell_type": "code",
   "execution_count": 48,
   "id": "21c408da",
   "metadata": {},
   "outputs": [
    {
     "data": {
      "text/html": [
       "<div>\n",
       "<style scoped>\n",
       "    .dataframe tbody tr th:only-of-type {\n",
       "        vertical-align: middle;\n",
       "    }\n",
       "\n",
       "    .dataframe tbody tr th {\n",
       "        vertical-align: top;\n",
       "    }\n",
       "\n",
       "    .dataframe thead th {\n",
       "        text-align: right;\n",
       "    }\n",
       "</style>\n",
       "<table border=\"1\" class=\"dataframe\">\n",
       "  <thead>\n",
       "    <tr style=\"text-align: right;\">\n",
       "      <th></th>\n",
       "      <th>TV</th>\n",
       "      <th>Radio</th>\n",
       "      <th>Social Media</th>\n",
       "      <th>Influencer</th>\n",
       "      <th>Sales</th>\n",
       "    </tr>\n",
       "  </thead>\n",
       "  <tbody>\n",
       "    <tr>\n",
       "      <th>0</th>\n",
       "      <td>16.0</td>\n",
       "      <td>6.566231</td>\n",
       "      <td>2.907983</td>\n",
       "      <td>Mega</td>\n",
       "      <td>54.732757</td>\n",
       "    </tr>\n",
       "    <tr>\n",
       "      <th>1</th>\n",
       "      <td>13.0</td>\n",
       "      <td>9.237765</td>\n",
       "      <td>2.409567</td>\n",
       "      <td>Mega</td>\n",
       "      <td>46.677897</td>\n",
       "    </tr>\n",
       "    <tr>\n",
       "      <th>2</th>\n",
       "      <td>41.0</td>\n",
       "      <td>15.886446</td>\n",
       "      <td>2.913410</td>\n",
       "      <td>Mega</td>\n",
       "      <td>150.177829</td>\n",
       "    </tr>\n",
       "    <tr>\n",
       "      <th>3</th>\n",
       "      <td>83.0</td>\n",
       "      <td>30.020028</td>\n",
       "      <td>6.922304</td>\n",
       "      <td>Mega</td>\n",
       "      <td>298.246340</td>\n",
       "    </tr>\n",
       "    <tr>\n",
       "      <th>4</th>\n",
       "      <td>15.0</td>\n",
       "      <td>8.437408</td>\n",
       "      <td>1.405998</td>\n",
       "      <td>Micro</td>\n",
       "      <td>56.594181</td>\n",
       "    </tr>\n",
       "  </tbody>\n",
       "</table>\n",
       "</div>"
      ],
      "text/plain": [
       "     TV      Radio  Social Media Influencer       Sales\n",
       "0  16.0   6.566231      2.907983       Mega   54.732757\n",
       "1  13.0   9.237765      2.409567       Mega   46.677897\n",
       "2  41.0  15.886446      2.913410       Mega  150.177829\n",
       "3  83.0  30.020028      6.922304       Mega  298.246340\n",
       "4  15.0   8.437408      1.405998      Micro   56.594181"
      ]
     },
     "execution_count": 48,
     "metadata": {},
     "output_type": "execute_result"
    }
   ],
   "source": [
    "#3. Encoding Techniques\n",
    "#only for char variable:\n",
    "data.head()"
   ]
  },
  {
   "cell_type": "code",
   "execution_count": 50,
   "id": "dbfbabfb",
   "metadata": {
    "scrolled": true
   },
   "outputs": [
    {
     "data": {
      "text/html": [
       "<div>\n",
       "<style scoped>\n",
       "    .dataframe tbody tr th:only-of-type {\n",
       "        vertical-align: middle;\n",
       "    }\n",
       "\n",
       "    .dataframe tbody tr th {\n",
       "        vertical-align: top;\n",
       "    }\n",
       "\n",
       "    .dataframe thead th {\n",
       "        text-align: right;\n",
       "    }\n",
       "</style>\n",
       "<table border=\"1\" class=\"dataframe\">\n",
       "  <thead>\n",
       "    <tr style=\"text-align: right;\">\n",
       "      <th></th>\n",
       "      <th>TV</th>\n",
       "      <th>Radio</th>\n",
       "      <th>Social Media</th>\n",
       "      <th>Influencer</th>\n",
       "      <th>Sales</th>\n",
       "    </tr>\n",
       "  </thead>\n",
       "  <tbody>\n",
       "    <tr>\n",
       "      <th>0</th>\n",
       "      <td>16.0</td>\n",
       "      <td>6.566231</td>\n",
       "      <td>2.907983</td>\n",
       "      <td>1</td>\n",
       "      <td>54.732757</td>\n",
       "    </tr>\n",
       "    <tr>\n",
       "      <th>1</th>\n",
       "      <td>13.0</td>\n",
       "      <td>9.237765</td>\n",
       "      <td>2.409567</td>\n",
       "      <td>1</td>\n",
       "      <td>46.677897</td>\n",
       "    </tr>\n",
       "    <tr>\n",
       "      <th>2</th>\n",
       "      <td>41.0</td>\n",
       "      <td>15.886446</td>\n",
       "      <td>2.913410</td>\n",
       "      <td>1</td>\n",
       "      <td>150.177829</td>\n",
       "    </tr>\n",
       "    <tr>\n",
       "      <th>3</th>\n",
       "      <td>83.0</td>\n",
       "      <td>30.020028</td>\n",
       "      <td>6.922304</td>\n",
       "      <td>1</td>\n",
       "      <td>298.246340</td>\n",
       "    </tr>\n",
       "    <tr>\n",
       "      <th>4</th>\n",
       "      <td>15.0</td>\n",
       "      <td>8.437408</td>\n",
       "      <td>1.405998</td>\n",
       "      <td>2</td>\n",
       "      <td>56.594181</td>\n",
       "    </tr>\n",
       "    <tr>\n",
       "      <th>...</th>\n",
       "      <td>...</td>\n",
       "      <td>...</td>\n",
       "      <td>...</td>\n",
       "      <td>...</td>\n",
       "      <td>...</td>\n",
       "    </tr>\n",
       "    <tr>\n",
       "      <th>4567</th>\n",
       "      <td>26.0</td>\n",
       "      <td>4.472360</td>\n",
       "      <td>0.717090</td>\n",
       "      <td>2</td>\n",
       "      <td>94.685866</td>\n",
       "    </tr>\n",
       "    <tr>\n",
       "      <th>4568</th>\n",
       "      <td>71.0</td>\n",
       "      <td>20.610685</td>\n",
       "      <td>6.545573</td>\n",
       "      <td>3</td>\n",
       "      <td>249.101915</td>\n",
       "    </tr>\n",
       "    <tr>\n",
       "      <th>4569</th>\n",
       "      <td>44.0</td>\n",
       "      <td>19.800072</td>\n",
       "      <td>5.096192</td>\n",
       "      <td>2</td>\n",
       "      <td>163.631457</td>\n",
       "    </tr>\n",
       "    <tr>\n",
       "      <th>4570</th>\n",
       "      <td>71.0</td>\n",
       "      <td>17.534640</td>\n",
       "      <td>1.940873</td>\n",
       "      <td>0</td>\n",
       "      <td>253.610411</td>\n",
       "    </tr>\n",
       "    <tr>\n",
       "      <th>4571</th>\n",
       "      <td>42.0</td>\n",
       "      <td>15.966688</td>\n",
       "      <td>5.046548</td>\n",
       "      <td>2</td>\n",
       "      <td>148.202414</td>\n",
       "    </tr>\n",
       "  </tbody>\n",
       "</table>\n",
       "<p>4572 rows × 5 columns</p>\n",
       "</div>"
      ],
      "text/plain": [
       "        TV      Radio  Social Media  Influencer       Sales\n",
       "0     16.0   6.566231      2.907983           1   54.732757\n",
       "1     13.0   9.237765      2.409567           1   46.677897\n",
       "2     41.0  15.886446      2.913410           1  150.177829\n",
       "3     83.0  30.020028      6.922304           1  298.246340\n",
       "4     15.0   8.437408      1.405998           2   56.594181\n",
       "...    ...        ...           ...         ...         ...\n",
       "4567  26.0   4.472360      0.717090           2   94.685866\n",
       "4568  71.0  20.610685      6.545573           3  249.101915\n",
       "4569  44.0  19.800072      5.096192           2  163.631457\n",
       "4570  71.0  17.534640      1.940873           0  253.610411\n",
       "4571  42.0  15.966688      5.046548           2  148.202414\n",
       "\n",
       "[4572 rows x 5 columns]"
      ]
     },
     "execution_count": 50,
     "metadata": {},
     "output_type": "execute_result"
    }
   ],
   "source": [
    "# LAble Encoding \n",
    "data4=data.copy()\n",
    "from sklearn.preprocessing import LabelEncoder\n",
    "le=LabelEncoder()\n",
    "le_Influencer=le.fit_transform(data4[\"Influencer\"])\n",
    "data4[\"Influencer\"]=le_Influencer\n",
    "data4"
   ]
  },
  {
   "cell_type": "code",
   "execution_count": 54,
   "id": "7ed745b4",
   "metadata": {},
   "outputs": [],
   "source": [
    "#One hot encoding\n",
    "data5=data.copy()\n",
    "from sklearn.preprocessing import OneHotEncoder  \n",
    "ohe = OneHotEncoder() \n",
    "ohe_data=pd.DataFrame(ohe.fit_transform(data5[['Influencer']]).toarray()) \n",
    "data5[\"Influencer_0\"]=ohe_data[0]\n",
    "data5[\"Influencer_1\"]=ohe_data[1]\n",
    "data5[\"Influencer_2\"]=ohe_data[2]\n",
    "data5[\"Influencer_3\"]=ohe_data[3]\n"
   ]
  },
  {
   "cell_type": "code",
   "execution_count": 52,
   "id": "b7bf619c",
   "metadata": {},
   "outputs": [
    {
     "data": {
      "text/html": [
       "<div>\n",
       "<style scoped>\n",
       "    .dataframe tbody tr th:only-of-type {\n",
       "        vertical-align: middle;\n",
       "    }\n",
       "\n",
       "    .dataframe tbody tr th {\n",
       "        vertical-align: top;\n",
       "    }\n",
       "\n",
       "    .dataframe thead th {\n",
       "        text-align: right;\n",
       "    }\n",
       "</style>\n",
       "<table border=\"1\" class=\"dataframe\">\n",
       "  <thead>\n",
       "    <tr style=\"text-align: right;\">\n",
       "      <th></th>\n",
       "      <th>TV</th>\n",
       "      <th>Radio</th>\n",
       "      <th>Social Media</th>\n",
       "      <th>Influencer</th>\n",
       "      <th>Sales</th>\n",
       "      <th>Influencer_0</th>\n",
       "      <th>Influencer_1</th>\n",
       "      <th>Influencer_2</th>\n",
       "      <th>Influencer_3</th>\n",
       "    </tr>\n",
       "  </thead>\n",
       "  <tbody>\n",
       "    <tr>\n",
       "      <th>0</th>\n",
       "      <td>16.0</td>\n",
       "      <td>6.566231</td>\n",
       "      <td>2.907983</td>\n",
       "      <td>Mega</td>\n",
       "      <td>54.732757</td>\n",
       "      <td>0.0</td>\n",
       "      <td>1.0</td>\n",
       "      <td>0.0</td>\n",
       "      <td>0.0</td>\n",
       "    </tr>\n",
       "    <tr>\n",
       "      <th>1</th>\n",
       "      <td>13.0</td>\n",
       "      <td>9.237765</td>\n",
       "      <td>2.409567</td>\n",
       "      <td>Mega</td>\n",
       "      <td>46.677897</td>\n",
       "      <td>0.0</td>\n",
       "      <td>1.0</td>\n",
       "      <td>0.0</td>\n",
       "      <td>0.0</td>\n",
       "    </tr>\n",
       "    <tr>\n",
       "      <th>2</th>\n",
       "      <td>41.0</td>\n",
       "      <td>15.886446</td>\n",
       "      <td>2.913410</td>\n",
       "      <td>Mega</td>\n",
       "      <td>150.177829</td>\n",
       "      <td>0.0</td>\n",
       "      <td>1.0</td>\n",
       "      <td>0.0</td>\n",
       "      <td>0.0</td>\n",
       "    </tr>\n",
       "    <tr>\n",
       "      <th>3</th>\n",
       "      <td>83.0</td>\n",
       "      <td>30.020028</td>\n",
       "      <td>6.922304</td>\n",
       "      <td>Mega</td>\n",
       "      <td>298.246340</td>\n",
       "      <td>0.0</td>\n",
       "      <td>1.0</td>\n",
       "      <td>0.0</td>\n",
       "      <td>0.0</td>\n",
       "    </tr>\n",
       "    <tr>\n",
       "      <th>4</th>\n",
       "      <td>15.0</td>\n",
       "      <td>8.437408</td>\n",
       "      <td>1.405998</td>\n",
       "      <td>Micro</td>\n",
       "      <td>56.594181</td>\n",
       "      <td>0.0</td>\n",
       "      <td>0.0</td>\n",
       "      <td>1.0</td>\n",
       "      <td>0.0</td>\n",
       "    </tr>\n",
       "    <tr>\n",
       "      <th>...</th>\n",
       "      <td>...</td>\n",
       "      <td>...</td>\n",
       "      <td>...</td>\n",
       "      <td>...</td>\n",
       "      <td>...</td>\n",
       "      <td>...</td>\n",
       "      <td>...</td>\n",
       "      <td>...</td>\n",
       "      <td>...</td>\n",
       "    </tr>\n",
       "    <tr>\n",
       "      <th>4567</th>\n",
       "      <td>26.0</td>\n",
       "      <td>4.472360</td>\n",
       "      <td>0.717090</td>\n",
       "      <td>Micro</td>\n",
       "      <td>94.685866</td>\n",
       "      <td>0.0</td>\n",
       "      <td>0.0</td>\n",
       "      <td>1.0</td>\n",
       "      <td>0.0</td>\n",
       "    </tr>\n",
       "    <tr>\n",
       "      <th>4568</th>\n",
       "      <td>71.0</td>\n",
       "      <td>20.610685</td>\n",
       "      <td>6.545573</td>\n",
       "      <td>Nano</td>\n",
       "      <td>249.101915</td>\n",
       "      <td>0.0</td>\n",
       "      <td>0.0</td>\n",
       "      <td>0.0</td>\n",
       "      <td>1.0</td>\n",
       "    </tr>\n",
       "    <tr>\n",
       "      <th>4569</th>\n",
       "      <td>44.0</td>\n",
       "      <td>19.800072</td>\n",
       "      <td>5.096192</td>\n",
       "      <td>Micro</td>\n",
       "      <td>163.631457</td>\n",
       "      <td>0.0</td>\n",
       "      <td>0.0</td>\n",
       "      <td>1.0</td>\n",
       "      <td>0.0</td>\n",
       "    </tr>\n",
       "    <tr>\n",
       "      <th>4570</th>\n",
       "      <td>71.0</td>\n",
       "      <td>17.534640</td>\n",
       "      <td>1.940873</td>\n",
       "      <td>Macro</td>\n",
       "      <td>253.610411</td>\n",
       "      <td>1.0</td>\n",
       "      <td>0.0</td>\n",
       "      <td>0.0</td>\n",
       "      <td>0.0</td>\n",
       "    </tr>\n",
       "    <tr>\n",
       "      <th>4571</th>\n",
       "      <td>42.0</td>\n",
       "      <td>15.966688</td>\n",
       "      <td>5.046548</td>\n",
       "      <td>Micro</td>\n",
       "      <td>148.202414</td>\n",
       "      <td>0.0</td>\n",
       "      <td>0.0</td>\n",
       "      <td>1.0</td>\n",
       "      <td>0.0</td>\n",
       "    </tr>\n",
       "  </tbody>\n",
       "</table>\n",
       "<p>4572 rows × 9 columns</p>\n",
       "</div>"
      ],
      "text/plain": [
       "        TV      Radio  Social Media Influencer       Sales  Influencer_0  \\\n",
       "0     16.0   6.566231      2.907983       Mega   54.732757           0.0   \n",
       "1     13.0   9.237765      2.409567       Mega   46.677897           0.0   \n",
       "2     41.0  15.886446      2.913410       Mega  150.177829           0.0   \n",
       "3     83.0  30.020028      6.922304       Mega  298.246340           0.0   \n",
       "4     15.0   8.437408      1.405998      Micro   56.594181           0.0   \n",
       "...    ...        ...           ...        ...         ...           ...   \n",
       "4567  26.0   4.472360      0.717090      Micro   94.685866           0.0   \n",
       "4568  71.0  20.610685      6.545573       Nano  249.101915           0.0   \n",
       "4569  44.0  19.800072      5.096192      Micro  163.631457           0.0   \n",
       "4570  71.0  17.534640      1.940873      Macro  253.610411           1.0   \n",
       "4571  42.0  15.966688      5.046548      Micro  148.202414           0.0   \n",
       "\n",
       "      Influencer_1  Influencer_2  Influencer_3  \n",
       "0              1.0           0.0           0.0  \n",
       "1              1.0           0.0           0.0  \n",
       "2              1.0           0.0           0.0  \n",
       "3              1.0           0.0           0.0  \n",
       "4              0.0           1.0           0.0  \n",
       "...            ...           ...           ...  \n",
       "4567           0.0           1.0           0.0  \n",
       "4568           0.0           0.0           1.0  \n",
       "4569           0.0           1.0           0.0  \n",
       "4570           0.0           0.0           0.0  \n",
       "4571           0.0           1.0           0.0  \n",
       "\n",
       "[4572 rows x 9 columns]"
      ]
     },
     "execution_count": 52,
     "metadata": {},
     "output_type": "execute_result"
    }
   ],
   "source": [
    "data5"
   ]
  },
  {
   "cell_type": "code",
   "execution_count": 55,
   "id": "d79e0168",
   "metadata": {},
   "outputs": [
    {
     "data": {
      "text/html": [
       "<div>\n",
       "<style scoped>\n",
       "    .dataframe tbody tr th:only-of-type {\n",
       "        vertical-align: middle;\n",
       "    }\n",
       "\n",
       "    .dataframe tbody tr th {\n",
       "        vertical-align: top;\n",
       "    }\n",
       "\n",
       "    .dataframe thead th {\n",
       "        text-align: right;\n",
       "    }\n",
       "</style>\n",
       "<table border=\"1\" class=\"dataframe\">\n",
       "  <thead>\n",
       "    <tr style=\"text-align: right;\">\n",
       "      <th></th>\n",
       "      <th>TV</th>\n",
       "      <th>Radio</th>\n",
       "      <th>Social Media</th>\n",
       "      <th>Influencer</th>\n",
       "      <th>Sales</th>\n",
       "      <th>Influencer_1</th>\n",
       "      <th>Influencer_2</th>\n",
       "      <th>Influencer_3</th>\n",
       "    </tr>\n",
       "  </thead>\n",
       "  <tbody>\n",
       "    <tr>\n",
       "      <th>0</th>\n",
       "      <td>16.0</td>\n",
       "      <td>6.566231</td>\n",
       "      <td>2.907983</td>\n",
       "      <td>Mega</td>\n",
       "      <td>54.732757</td>\n",
       "      <td>1.0</td>\n",
       "      <td>0.0</td>\n",
       "      <td>0.0</td>\n",
       "    </tr>\n",
       "    <tr>\n",
       "      <th>1</th>\n",
       "      <td>13.0</td>\n",
       "      <td>9.237765</td>\n",
       "      <td>2.409567</td>\n",
       "      <td>Mega</td>\n",
       "      <td>46.677897</td>\n",
       "      <td>1.0</td>\n",
       "      <td>0.0</td>\n",
       "      <td>0.0</td>\n",
       "    </tr>\n",
       "    <tr>\n",
       "      <th>2</th>\n",
       "      <td>41.0</td>\n",
       "      <td>15.886446</td>\n",
       "      <td>2.913410</td>\n",
       "      <td>Mega</td>\n",
       "      <td>150.177829</td>\n",
       "      <td>1.0</td>\n",
       "      <td>0.0</td>\n",
       "      <td>0.0</td>\n",
       "    </tr>\n",
       "    <tr>\n",
       "      <th>3</th>\n",
       "      <td>83.0</td>\n",
       "      <td>30.020028</td>\n",
       "      <td>6.922304</td>\n",
       "      <td>Mega</td>\n",
       "      <td>298.246340</td>\n",
       "      <td>1.0</td>\n",
       "      <td>0.0</td>\n",
       "      <td>0.0</td>\n",
       "    </tr>\n",
       "    <tr>\n",
       "      <th>4</th>\n",
       "      <td>15.0</td>\n",
       "      <td>8.437408</td>\n",
       "      <td>1.405998</td>\n",
       "      <td>Micro</td>\n",
       "      <td>56.594181</td>\n",
       "      <td>0.0</td>\n",
       "      <td>1.0</td>\n",
       "      <td>0.0</td>\n",
       "    </tr>\n",
       "  </tbody>\n",
       "</table>\n",
       "</div>"
      ],
      "text/plain": [
       "     TV      Radio  Social Media Influencer       Sales  Influencer_1  \\\n",
       "0  16.0   6.566231      2.907983       Mega   54.732757           1.0   \n",
       "1  13.0   9.237765      2.409567       Mega   46.677897           1.0   \n",
       "2  41.0  15.886446      2.913410       Mega  150.177829           1.0   \n",
       "3  83.0  30.020028      6.922304       Mega  298.246340           1.0   \n",
       "4  15.0   8.437408      1.405998      Micro   56.594181           0.0   \n",
       "\n",
       "   Influencer_2  Influencer_3  \n",
       "0           0.0           0.0  \n",
       "1           0.0           0.0  \n",
       "2           0.0           0.0  \n",
       "3           0.0           0.0  \n",
       "4           1.0           0.0  "
      ]
     },
     "execution_count": 55,
     "metadata": {},
     "output_type": "execute_result"
    }
   ],
   "source": [
    "#3.Dummy variable\n",
    "#n-1 variable in one hot encoding to avoid multicolinearity\n",
    "data5 = data5.drop(['Influencer_0'], axis=1)\n",
    "data5.head()"
   ]
  },
  {
   "cell_type": "code",
   "execution_count": null,
   "id": "108a54e8",
   "metadata": {},
   "outputs": [],
   "source": [
    "#Feature Scaling"
   ]
  },
  {
   "cell_type": "code",
   "execution_count": 56,
   "id": "94f54487",
   "metadata": {
    "scrolled": true
   },
   "outputs": [
    {
     "data": {
      "text/plain": [
       "array([[0.16      , 0.13435799, 0.20798549, 0.33333333, 0.15033178],\n",
       "       [0.13      , 0.18902282, 0.17233768, 0.33333333, 0.12820789],\n",
       "       [0.41      , 0.32506791, 0.20837367, 0.33333333, 0.41248608],\n",
       "       ...,\n",
       "       [0.44      , 0.40514839, 0.36449113, 0.66666667, 0.4494385 ],\n",
       "       [0.71      , 0.3587932 , 0.13881563, 0.        , 0.69657928],\n",
       "       [0.42      , 0.3267098 , 0.36094047, 0.66666667, 0.4070603 ]])"
      ]
     },
     "execution_count": 56,
     "metadata": {},
     "output_type": "execute_result"
    }
   ],
   "source": [
    "# Maximum Absolute Scaling\n",
    "#Formula=\n",
    "from sklearn.preprocessing import MaxAbsScaler\n",
    "mas=MaxAbsScaler()\n",
    "x=data4.iloc[:,[0,1,2,3,4]].values\n",
    "x=mas.fit_transform(x)\n",
    "x"
   ]
  },
  {
   "cell_type": "code",
   "execution_count": 57,
   "id": "4ff8fbde",
   "metadata": {
    "scrolled": true
   },
   "outputs": [
    {
     "data": {
      "text/plain": [
       "array([[0.06666667, 0.13434587, 0.20798371, 0.33333333, 0.07069612],\n",
       "       [0.03333333, 0.18901147, 0.17233583, 0.33333333, 0.04649866],\n",
       "       [0.34444444, 0.32505846, 0.20837189, 0.33333333, 0.35742099],\n",
       "       ...,\n",
       "       [0.37777778, 0.40514007, 0.36448971, 0.66666667, 0.3978368 ],\n",
       "       [0.67777778, 0.35878423, 0.1388137 , 0.        , 0.66814099],\n",
       "       [0.35555556, 0.32670038, 0.36093904, 0.66666667, 0.35148668]])"
      ]
     },
     "execution_count": 57,
     "metadata": {},
     "output_type": "execute_result"
    }
   ],
   "source": [
    "# Min Max Scaler \n",
    "#Formula\n",
    "from sklearn.preprocessing import MinMaxScaler\n",
    "mms=MinMaxScaler()\n",
    "y=data4.iloc[:,[0,1,2,3,4]].values\n",
    "y=mms.fit_transform(y)\n",
    "y"
   ]
  },
  {
   "cell_type": "code",
   "execution_count": 58,
   "id": "61de6e1c",
   "metadata": {},
   "outputs": [
    {
     "data": {
      "text/plain": [
       "array([[-1.45885758, -1.19877233, -0.18814019, -0.45370681, -1.48002609],\n",
       "       [-1.57382827, -0.92254961, -0.41356806, -0.45370681, -1.56658   ],\n",
       "       [-0.5007685 , -0.23511047, -0.18568543, -0.45370681, -0.45441618],\n",
       "       ...,\n",
       "       [-0.38579782,  0.16953817,  0.80156271,  0.44466805, -0.30984953],\n",
       "       [ 0.64893839, -0.06469574, -0.62555319, -1.35208167,  0.65702394],\n",
       "       [-0.46244494, -0.22681392,  0.77910916,  0.44466805, -0.4756431 ]])"
      ]
     },
     "execution_count": 58,
     "metadata": {},
     "output_type": "execute_result"
    }
   ],
   "source": [
    "## Standardization (most commonly used)   these values are between -3 and 3 , it used the Z score formula\n",
    "from sklearn.preprocessing import StandardScaler\n",
    "ss = StandardScaler()\n",
    "z=data4.iloc[:,[0,1,2,3,4]].values\n",
    "z=ss.fit_transform(z)\n",
    "z"
   ]
  },
  {
   "cell_type": "code",
   "execution_count": 59,
   "id": "afce1bbd",
   "metadata": {},
   "outputs": [
    {
     "data": {
      "text/plain": [
       "array([[0.27834522, 0.11422993, 0.05058894, 0.01739658, 0.95216258],\n",
       "       [0.26317901, 0.18701429, 0.04878058, 0.02024454, 0.94497253],\n",
       "       [0.26195945, 0.10150255, 0.01861452, 0.00638925, 0.95952444],\n",
       "       ...,\n",
       "       [0.25778526, 0.11600379, 0.02985734, 0.01171751, 0.95867676],\n",
       "       [0.26898866, 0.06643126, 0.00735314, 0.        , 0.96082148],\n",
       "       [0.27103906, 0.103038  , 0.03256694, 0.01290662, 0.95639626]])"
      ]
     },
     "execution_count": 59,
     "metadata": {},
     "output_type": "execute_result"
    }
   ],
   "source": [
    "## Normalization\n",
    "\n",
    "from sklearn.preprocessing import normalize #read its documentation\n",
    "n=data4.iloc[:,[0,1,2,3,4]].values\n",
    "n=normalize(n)\n",
    "n"
   ]
  },
  {
   "cell_type": "code",
   "execution_count": 60,
   "id": "3df92844",
   "metadata": {},
   "outputs": [
    {
     "data": {
      "text/plain": [
       "array([[-0.82222222, -0.74888965, -0.04553385, -1.        , -0.84303267],\n",
       "       [-0.88888889, -0.57197809, -0.19767754, -1.        , -0.89337012],\n",
       "       [-0.26666667, -0.13169594, -0.04387711, -1.        , -0.24656529],\n",
       "       ...,\n",
       "       [-0.2       ,  0.12746819,  0.62242723,  0.        , -0.16248918],\n",
       "       [ 0.4       , -0.02255092, -0.34074858, -2.        ,  0.39981865],\n",
       "       [-0.24444444, -0.12638227,  0.60727309,  0.        , -0.2589103 ]])"
      ]
     },
     "execution_count": 60,
     "metadata": {},
     "output_type": "execute_result"
    }
   ],
   "source": [
    "## Robust scaling\n",
    "\n",
    "from sklearn.preprocessing import RobustScaler\n",
    "r=data4.iloc[:,[0,1,2,3,4]].values\n",
    "rs=RobustScaler()\n",
    "r=rs.fit_transform(r)\n",
    "r\n"
   ]
  },
  {
   "cell_type": "code",
   "execution_count": null,
   "id": "cb796289",
   "metadata": {},
   "outputs": [],
   "source": [
    "#5.Imbalance DATASET checking\n",
    "\n",
    "#The dataset has numerical target variable so need to check for imbalance data set\n",
    "\n",
    "#Check whether Class is balance or imbalance\n",
    "\n",
    "# imbalance=titanic4['Status'].value_counts()\n",
    "# imbalance"
   ]
  },
  {
   "cell_type": "code",
   "execution_count": null,
   "id": "1b4907e8",
   "metadata": {},
   "outputs": [],
   "source": [
    "# if imbalance[1]>= 2*imbalance[0]:\n",
    "#     print(\"Imbalance Data set\")\n",
    "# else:\n",
    "#     print(\"Balance Data set\")"
   ]
  },
  {
   "cell_type": "code",
   "execution_count": null,
   "id": "837d1f09",
   "metadata": {},
   "outputs": [],
   "source": [
    "#Techniques to convert imbalance data set into balance dataset\n",
    "\n",
    "#1.Undersampling- Target minority classes\n",
    "#2.Oversampling- Target Majority classes\n",
    "#3.SMOTE Techniques- Target minority classes"
   ]
  },
  {
   "cell_type": "markdown",
   "id": "fe4ecdd0",
   "metadata": {},
   "source": [
    "# Undersampling method"
   ]
  },
  {
   "cell_type": "code",
   "execution_count": null,
   "id": "da75574d",
   "metadata": {},
   "outputs": [],
   "source": [
    "# from imblearn.under_sampling import RandomUnderSampler\n",
    "# under = RandomUnderSampler()\n",
    "# x_under, y_under = under.fit_resample(x,y)"
   ]
  },
  {
   "cell_type": "code",
   "execution_count": null,
   "id": "d56a04e4",
   "metadata": {},
   "outputs": [],
   "source": [
    "# print(x_under.shape)\n",
    "# print(y_under.shape)"
   ]
  },
  {
   "cell_type": "markdown",
   "id": "79ea49f1",
   "metadata": {},
   "source": [
    "# Oversampling method"
   ]
  },
  {
   "cell_type": "code",
   "execution_count": null,
   "id": "dc305395",
   "metadata": {},
   "outputs": [],
   "source": [
    "# from imblearn.over_sampling import RandomOverSampler\n",
    "# over = RandomOverSampler()\n",
    "# x_over, y_over = over.fit_resample(x,y)"
   ]
  },
  {
   "cell_type": "code",
   "execution_count": null,
   "id": "b98939ba",
   "metadata": {},
   "outputs": [],
   "source": [
    "# print(x_over.shape)\n",
    "# print(y_over.shape)"
   ]
  },
  {
   "cell_type": "markdown",
   "id": "5972770e",
   "metadata": {},
   "source": [
    "# SMOTE - Synthetic Minority Over-sampling Technique"
   ]
  },
  {
   "cell_type": "code",
   "execution_count": null,
   "id": "627a13f7",
   "metadata": {},
   "outputs": [],
   "source": [
    "# 0 - majority class - 284315\n",
    "# 1 - minority class - 492\n",
    "# SMOTE\n",
    "# target - minority class\n",
    "# 0 - 284315\n",
    "# 1 - 284315\n",
    "# 284315*2 = 568630"
   ]
  },
  {
   "cell_type": "code",
   "execution_count": null,
   "id": "8842740f",
   "metadata": {},
   "outputs": [],
   "source": [
    "# from imblearn.over_sampling import SMOTE\n",
    "# smote = SMOTE()\n",
    "# x_smote, y_smote = smote.fit_resample(x,y)\n",
    "# print(x_smote.shape)\n",
    "# print('\\n')\n",
    "# print(y_smote.shape)\n",
    "      "
   ]
  }
 ],
 "metadata": {
  "kernelspec": {
   "display_name": "Python 3 (ipykernel)",
   "language": "python",
   "name": "python3"
  },
  "language_info": {
   "codemirror_mode": {
    "name": "ipython",
    "version": 3
   },
   "file_extension": ".py",
   "mimetype": "text/x-python",
   "name": "python",
   "nbconvert_exporter": "python",
   "pygments_lexer": "ipython3",
   "version": "3.9.7"
  }
 },
 "nbformat": 4,
 "nbformat_minor": 5
}
