{
 "cells": [
  {
   "cell_type": "code",
   "execution_count": 1,
   "id": "0899606e",
   "metadata": {},
   "outputs": [],
   "source": [
    "import os\n",
    "import numpy as np\n",
    "import pandas as pd\n",
    "import seaborn as sns \n",
    "import matplotlib.pyplot as plt\n",
    "%matplotlib inline"
   ]
  },
  {
   "cell_type": "code",
   "execution_count": 2,
   "id": "8780cb4e",
   "metadata": {
    "scrolled": true
   },
   "outputs": [
    {
     "data": {
      "text/plain": [
       "'/Users/anjanikumar/Desktop/learnbay/learnbay projects/Github/data preprocessing'"
      ]
     },
     "execution_count": 2,
     "metadata": {},
     "output_type": "execute_result"
    }
   ],
   "source": [
    "os.getcwd()"
   ]
  },
  {
   "cell_type": "code",
   "execution_count": 3,
   "id": "26e6b9bf",
   "metadata": {},
   "outputs": [],
   "source": [
    "titanic=pd.read_csv(\"titanic.csv\")"
   ]
  },
  {
   "cell_type": "code",
   "execution_count": 4,
   "id": "1e553789",
   "metadata": {
    "scrolled": true
   },
   "outputs": [
    {
     "data": {
      "text/html": [
       "<div>\n",
       "<style scoped>\n",
       "    .dataframe tbody tr th:only-of-type {\n",
       "        vertical-align: middle;\n",
       "    }\n",
       "\n",
       "    .dataframe tbody tr th {\n",
       "        vertical-align: top;\n",
       "    }\n",
       "\n",
       "    .dataframe thead th {\n",
       "        text-align: right;\n",
       "    }\n",
       "</style>\n",
       "<table border=\"1\" class=\"dataframe\">\n",
       "  <thead>\n",
       "    <tr style=\"text-align: right;\">\n",
       "      <th></th>\n",
       "      <th>Pclass</th>\n",
       "      <th>Gender</th>\n",
       "      <th>Age</th>\n",
       "      <th>SibSp</th>\n",
       "      <th>ParCh</th>\n",
       "      <th>Fare</th>\n",
       "      <th>Embarked</th>\n",
       "      <th>Status</th>\n",
       "    </tr>\n",
       "  </thead>\n",
       "  <tbody>\n",
       "    <tr>\n",
       "      <th>0</th>\n",
       "      <td>1</td>\n",
       "      <td>Female</td>\n",
       "      <td>29.0</td>\n",
       "      <td>0</td>\n",
       "      <td>0</td>\n",
       "      <td>211.34</td>\n",
       "      <td>Southampton</td>\n",
       "      <td>S</td>\n",
       "    </tr>\n",
       "    <tr>\n",
       "      <th>1</th>\n",
       "      <td>1</td>\n",
       "      <td>Male</td>\n",
       "      <td>0.9</td>\n",
       "      <td>1</td>\n",
       "      <td>2</td>\n",
       "      <td>151.55</td>\n",
       "      <td>Southampton</td>\n",
       "      <td>S</td>\n",
       "    </tr>\n",
       "    <tr>\n",
       "      <th>2</th>\n",
       "      <td>1</td>\n",
       "      <td>Female</td>\n",
       "      <td>2.0</td>\n",
       "      <td>1</td>\n",
       "      <td>2</td>\n",
       "      <td>151.55</td>\n",
       "      <td>Southampton</td>\n",
       "      <td>D</td>\n",
       "    </tr>\n",
       "    <tr>\n",
       "      <th>3</th>\n",
       "      <td>1</td>\n",
       "      <td>Male</td>\n",
       "      <td>30.0</td>\n",
       "      <td>1</td>\n",
       "      <td>2</td>\n",
       "      <td>151.55</td>\n",
       "      <td>Southampton</td>\n",
       "      <td>D</td>\n",
       "    </tr>\n",
       "    <tr>\n",
       "      <th>4</th>\n",
       "      <td>1</td>\n",
       "      <td>Female</td>\n",
       "      <td>25.0</td>\n",
       "      <td>1</td>\n",
       "      <td>2</td>\n",
       "      <td>151.55</td>\n",
       "      <td>Southampton</td>\n",
       "      <td>D</td>\n",
       "    </tr>\n",
       "  </tbody>\n",
       "</table>\n",
       "</div>"
      ],
      "text/plain": [
       "   Pclass  Gender   Age  SibSp  ParCh    Fare     Embarked Status\n",
       "0       1  Female  29.0      0      0  211.34  Southampton      S\n",
       "1       1    Male   0.9      1      2  151.55  Southampton      S\n",
       "2       1  Female   2.0      1      2  151.55  Southampton      D\n",
       "3       1    Male  30.0      1      2  151.55  Southampton      D\n",
       "4       1  Female  25.0      1      2  151.55  Southampton      D"
      ]
     },
     "execution_count": 4,
     "metadata": {},
     "output_type": "execute_result"
    }
   ],
   "source": [
    "titanic.head()"
   ]
  },
  {
   "cell_type": "code",
   "execution_count": 5,
   "id": "89e71b1e",
   "metadata": {
    "scrolled": true
   },
   "outputs": [
    {
     "name": "stdout",
     "output_type": "stream",
     "text": [
      "<class 'pandas.core.frame.DataFrame'>\n",
      "RangeIndex: 1309 entries, 0 to 1308\n",
      "Data columns (total 8 columns):\n",
      " #   Column    Non-Null Count  Dtype  \n",
      "---  ------    --------------  -----  \n",
      " 0   Pclass    1309 non-null   int64  \n",
      " 1   Gender    1309 non-null   object \n",
      " 2   Age       1046 non-null   float64\n",
      " 3   SibSp     1309 non-null   int64  \n",
      " 4   ParCh     1309 non-null   int64  \n",
      " 5   Fare      1308 non-null   float64\n",
      " 6   Embarked  1307 non-null   object \n",
      " 7   Status    1309 non-null   object \n",
      "dtypes: float64(2), int64(3), object(3)\n",
      "memory usage: 81.9+ KB\n"
     ]
    }
   ],
   "source": [
    "titanic.info()"
   ]
  },
  {
   "cell_type": "code",
   "execution_count": 6,
   "id": "6406abb4",
   "metadata": {},
   "outputs": [],
   "source": [
    "# Data Preprocessing\n",
    "\n",
    "#Part 1) Handling missing value\n",
    "\n",
    "# Rule 1 - Threshold value : 25% or more than 25% missing data\n",
    "# Approach - remove that particular column / row\n",
    "\n",
    "# Rule 2 - Less than 25% missing data\n",
    "# approach - \n",
    "    # a) check variable type (number or char)\n",
    "        # i) variable type - charactor/object\n",
    "        # approach - 'MODE' / Most Frequent occurance\n",
    "        \n",
    "        # ii) variable type - number (float / int)\n",
    "        # approach - first we have to check outlier \n",
    "            # a) Outlier found - \"Median\"\n",
    "            # b) Outlier not found - \"Mean\"\n",
    "            \n",
    "\n",
    "# Part 2 - Handling outlier treatment - this is only applicable for numeric variable\n",
    "# Rule 1 - threshold value - 25% or more than 25% outlier found\n",
    "# approach - check with your stakeholder/client whether we can remove that outlier or not\n",
    "# answer - remove or keep\n",
    "\n",
    "# keep - approach - Transformation approach\n",
    "# Transaformation approach (either more than 25% or less then 25%)\n",
    "# a) square root transformation\n",
    "# b) cube root transformation\n",
    "# c) log transformation\n",
    "# d) i) positive outlier = Q3 + 1.5 * IQR ii) Negetive outlier = Q1 - 1.5 *IQR\n",
    "# e) to do feature scaling (standarisation)\n",
    "\n",
    "# Advanced tech - Regularisation approach - Lasso / Ridge / ElasticNet method\n",
    "\n",
    "\n",
    "\n",
    "# Part 3 - Encoding concept - this is only applicable for char/object variable\n",
    "# To covert char to number\n",
    "# step 1 - Label Encoder - covert char to number in a sequence order\n",
    "# step 2 - One Hot Encoder - convert all number into individual variable and then assign binary value \n",
    "# step 3 - Dummy variable - remove one variable (n-1) \n",
    "    # why are we doing it ? - To avoid multicollinearity\n",
    "\n",
    "    \n",
    "# Part 4 - Feature Scaling\n",
    "    # approach - i) Standarisation and ii) Normalisation\n",
    "    \n",
    "    # i) Standarisation - when there is an outlier. it's range is -3 to +3. it gives both pos and neg value\n",
    "    # ii) Normalisation - when there is no outlier. it's range is 0 to 1. it gives only pos value\n",
    "# Part 5 - Imbalance dataset -\n",
    "\n"
   ]
  },
  {
   "cell_type": "code",
   "execution_count": 7,
   "id": "d9881740",
   "metadata": {},
   "outputs": [
    {
     "data": {
      "text/html": [
       "<div>\n",
       "<style scoped>\n",
       "    .dataframe tbody tr th:only-of-type {\n",
       "        vertical-align: middle;\n",
       "    }\n",
       "\n",
       "    .dataframe tbody tr th {\n",
       "        vertical-align: top;\n",
       "    }\n",
       "\n",
       "    .dataframe thead th {\n",
       "        text-align: right;\n",
       "    }\n",
       "</style>\n",
       "<table border=\"1\" class=\"dataframe\">\n",
       "  <thead>\n",
       "    <tr style=\"text-align: right;\">\n",
       "      <th></th>\n",
       "      <th>Pclass</th>\n",
       "      <th>Gender</th>\n",
       "      <th>Age</th>\n",
       "      <th>SibSp</th>\n",
       "      <th>ParCh</th>\n",
       "      <th>Fare</th>\n",
       "      <th>Embarked</th>\n",
       "      <th>Status</th>\n",
       "    </tr>\n",
       "  </thead>\n",
       "  <tbody>\n",
       "    <tr>\n",
       "      <th>0</th>\n",
       "      <td>1</td>\n",
       "      <td>Female</td>\n",
       "      <td>29.0</td>\n",
       "      <td>0</td>\n",
       "      <td>0</td>\n",
       "      <td>211.34</td>\n",
       "      <td>Southampton</td>\n",
       "      <td>S</td>\n",
       "    </tr>\n",
       "    <tr>\n",
       "      <th>1</th>\n",
       "      <td>1</td>\n",
       "      <td>Male</td>\n",
       "      <td>0.9</td>\n",
       "      <td>1</td>\n",
       "      <td>2</td>\n",
       "      <td>151.55</td>\n",
       "      <td>Southampton</td>\n",
       "      <td>S</td>\n",
       "    </tr>\n",
       "    <tr>\n",
       "      <th>2</th>\n",
       "      <td>1</td>\n",
       "      <td>Female</td>\n",
       "      <td>2.0</td>\n",
       "      <td>1</td>\n",
       "      <td>2</td>\n",
       "      <td>151.55</td>\n",
       "      <td>Southampton</td>\n",
       "      <td>D</td>\n",
       "    </tr>\n",
       "    <tr>\n",
       "      <th>3</th>\n",
       "      <td>1</td>\n",
       "      <td>Male</td>\n",
       "      <td>30.0</td>\n",
       "      <td>1</td>\n",
       "      <td>2</td>\n",
       "      <td>151.55</td>\n",
       "      <td>Southampton</td>\n",
       "      <td>D</td>\n",
       "    </tr>\n",
       "    <tr>\n",
       "      <th>4</th>\n",
       "      <td>1</td>\n",
       "      <td>Female</td>\n",
       "      <td>25.0</td>\n",
       "      <td>1</td>\n",
       "      <td>2</td>\n",
       "      <td>151.55</td>\n",
       "      <td>Southampton</td>\n",
       "      <td>D</td>\n",
       "    </tr>\n",
       "    <tr>\n",
       "      <th>5</th>\n",
       "      <td>1</td>\n",
       "      <td>Male</td>\n",
       "      <td>48.0</td>\n",
       "      <td>0</td>\n",
       "      <td>0</td>\n",
       "      <td>26.55</td>\n",
       "      <td>Southampton</td>\n",
       "      <td>S</td>\n",
       "    </tr>\n",
       "    <tr>\n",
       "      <th>6</th>\n",
       "      <td>1</td>\n",
       "      <td>Female</td>\n",
       "      <td>63.0</td>\n",
       "      <td>1</td>\n",
       "      <td>0</td>\n",
       "      <td>77.96</td>\n",
       "      <td>Southampton</td>\n",
       "      <td>S</td>\n",
       "    </tr>\n",
       "    <tr>\n",
       "      <th>7</th>\n",
       "      <td>1</td>\n",
       "      <td>Male</td>\n",
       "      <td>39.0</td>\n",
       "      <td>0</td>\n",
       "      <td>0</td>\n",
       "      <td>0.00</td>\n",
       "      <td>Southampton</td>\n",
       "      <td>D</td>\n",
       "    </tr>\n",
       "    <tr>\n",
       "      <th>8</th>\n",
       "      <td>1</td>\n",
       "      <td>Female</td>\n",
       "      <td>53.0</td>\n",
       "      <td>2</td>\n",
       "      <td>0</td>\n",
       "      <td>51.48</td>\n",
       "      <td>Southampton</td>\n",
       "      <td>S</td>\n",
       "    </tr>\n",
       "    <tr>\n",
       "      <th>9</th>\n",
       "      <td>1</td>\n",
       "      <td>Male</td>\n",
       "      <td>71.0</td>\n",
       "      <td>0</td>\n",
       "      <td>0</td>\n",
       "      <td>49.50</td>\n",
       "      <td>Cherbourg</td>\n",
       "      <td>D</td>\n",
       "    </tr>\n",
       "  </tbody>\n",
       "</table>\n",
       "</div>"
      ],
      "text/plain": [
       "   Pclass  Gender   Age  SibSp  ParCh    Fare     Embarked Status\n",
       "0       1  Female  29.0      0      0  211.34  Southampton      S\n",
       "1       1    Male   0.9      1      2  151.55  Southampton      S\n",
       "2       1  Female   2.0      1      2  151.55  Southampton      D\n",
       "3       1    Male  30.0      1      2  151.55  Southampton      D\n",
       "4       1  Female  25.0      1      2  151.55  Southampton      D\n",
       "5       1    Male  48.0      0      0   26.55  Southampton      S\n",
       "6       1  Female  63.0      1      0   77.96  Southampton      S\n",
       "7       1    Male  39.0      0      0    0.00  Southampton      D\n",
       "8       1  Female  53.0      2      0   51.48  Southampton      S\n",
       "9       1    Male  71.0      0      0   49.50    Cherbourg      D"
      ]
     },
     "execution_count": 7,
     "metadata": {},
     "output_type": "execute_result"
    }
   ],
   "source": [
    "titanic.head(10)"
   ]
  },
  {
   "cell_type": "code",
   "execution_count": 8,
   "id": "b16fc17a",
   "metadata": {
    "scrolled": true
   },
   "outputs": [
    {
     "data": {
      "text/plain": [
       "Pclass        0\n",
       "Gender        0\n",
       "Age         263\n",
       "SibSp         0\n",
       "ParCh         0\n",
       "Fare          1\n",
       "Embarked      2\n",
       "Status        0\n",
       "dtype: int64"
      ]
     },
     "execution_count": 8,
     "metadata": {},
     "output_type": "execute_result"
    }
   ],
   "source": [
    "#Part 1 checking for missing data\n",
    "titanic.isnull().sum()"
   ]
  },
  {
   "cell_type": "code",
   "execution_count": 9,
   "id": "b820b28d",
   "metadata": {
    "scrolled": true
   },
   "outputs": [
    {
     "data": {
      "text/plain": [
       "Pclass       0.000000\n",
       "Gender       0.000000\n",
       "Age         20.091673\n",
       "SibSp        0.000000\n",
       "ParCh        0.000000\n",
       "Fare         0.076394\n",
       "Embarked     0.152788\n",
       "Status       0.000000\n",
       "dtype: float64"
      ]
     },
     "execution_count": 9,
     "metadata": {},
     "output_type": "execute_result"
    }
   ],
   "source": [
    "#check for percentage of missing data \n",
    "titanic.isnull().sum()/len(titanic)*100\n"
   ]
  },
  {
   "cell_type": "code",
   "execution_count": 10,
   "id": "2904d581",
   "metadata": {},
   "outputs": [],
   "source": [
    "#the percentage of missing data is not 25% and more so we cannot drop any column\n",
    "\n",
    "#Part1. Missing data is categorical in nature i.e Embarked \n",
    "    # Replace that with Mode.\n",
    "titanic[\"Embarked\"]= titanic[\"Embarked\"].fillna(titanic[\"Embarked\"].mode())"
   ]
  },
  {
   "cell_type": "code",
   "execution_count": 11,
   "id": "29658214",
   "metadata": {
    "scrolled": true
   },
   "outputs": [
    {
     "data": {
      "text/plain": [
       "<AxesSubplot:ylabel='Age'>"
      ]
     },
     "execution_count": 11,
     "metadata": {},
     "output_type": "execute_result"
    },
    {
     "data": {
      "image/png": "[encoded data removed]",
      "text/plain": [
       "<Figure size 432x288 with 1 Axes>"
      ]
     },
     "metadata": {
      "needs_background": "light"
     },
     "output_type": "display_data"
    }
   ],
   "source": [
    "#Part2. Missing data is numerical in nature i.e. Age, Fare\n",
    "      # Check for outliers\n",
    "sns.boxplot(y=\"Age\",data=titanic)\n"
   ]
  },
  {
   "cell_type": "code",
   "execution_count": 12,
   "id": "e6c83d5a",
   "metadata": {},
   "outputs": [
    {
     "data": {
      "text/plain": [
       "<AxesSubplot:ylabel='Fare'>"
      ]
     },
     "execution_count": 12,
     "metadata": {},
     "output_type": "execute_result"
    },
    {
     "data": {
      "image/png": "[encoded data removed]",
      "text/plain": [
       "<Figure size 432x288 with 1 Axes>"
      ]
     },
     "metadata": {
      "needs_background": "light"
     },
     "output_type": "display_data"
    }
   ],
   "source": [
    "sns.boxplot(y=\"Fare\",data=titanic)"
   ]
  },
  {
   "cell_type": "code",
   "execution_count": 13,
   "id": "d51c5a63",
   "metadata": {},
   "outputs": [],
   "source": [
    "#Outliers are present in both the numerical feild so we have to replace the missing value with MEDIAN"
   ]
  },
  {
   "cell_type": "code",
   "execution_count": 14,
   "id": "95df84a0",
   "metadata": {
    "scrolled": true
   },
   "outputs": [],
   "source": [
    "titanic[\"Age\"]=titanic[\"Age\"].fillna(titanic[\"Age\"].median())\n",
    "titanic[\"Fare\"]=titanic[\"Fare\"].fillna(titanic[\"Fare\"].median())"
   ]
  },
  {
   "cell_type": "code",
   "execution_count": 15,
   "id": "4ac81852",
   "metadata": {},
   "outputs": [
    {
     "data": {
      "text/plain": [
       "Pclass      0.000000\n",
       "Gender      0.000000\n",
       "Age         0.000000\n",
       "SibSp       0.000000\n",
       "ParCh       0.000000\n",
       "Fare        0.000000\n",
       "Embarked    0.152788\n",
       "Status      0.000000\n",
       "dtype: float64"
      ]
     },
     "execution_count": 15,
     "metadata": {},
     "output_type": "execute_result"
    }
   ],
   "source": [
    "titanic.isnull().sum()/len(titanic)*100"
   ]
  },
  {
   "cell_type": "code",
   "execution_count": 16,
   "id": "10e1cece",
   "metadata": {
    "scrolled": true
   },
   "outputs": [
    {
     "name": "stdout",
     "output_type": "stream",
     "text": [
      "<class 'pandas.core.frame.DataFrame'>\n",
      "RangeIndex: 1309 entries, 0 to 1308\n",
      "Data columns (total 8 columns):\n",
      " #   Column    Non-Null Count  Dtype  \n",
      "---  ------    --------------  -----  \n",
      " 0   Pclass    1309 non-null   int64  \n",
      " 1   Gender    1309 non-null   object \n",
      " 2   Age       1309 non-null   float64\n",
      " 3   SibSp     1309 non-null   int64  \n",
      " 4   ParCh     1309 non-null   int64  \n",
      " 5   Fare      1309 non-null   float64\n",
      " 6   Embarked  1307 non-null   object \n",
      " 7   Status    1309 non-null   object \n",
      "dtypes: float64(2), int64(3), object(3)\n",
      "memory usage: 81.9+ KB\n"
     ]
    }
   ],
   "source": [
    "#Part2. Checking for outliers \n",
    "titanic.info()\n"
   ]
  },
  {
   "cell_type": "code",
   "execution_count": 17,
   "id": "7b172cc9",
   "metadata": {
    "scrolled": true
   },
   "outputs": [
    {
     "data": {
      "text/plain": [
       "Pclass       AxesSubplot(0.125,0.536818;0.227941x0.343182)\n",
       "Age       AxesSubplot(0.398529,0.536818;0.227941x0.343182)\n",
       "SibSp     AxesSubplot(0.672059,0.536818;0.227941x0.343182)\n",
       "ParCh           AxesSubplot(0.125,0.125;0.227941x0.343182)\n",
       "Fare         AxesSubplot(0.398529,0.125;0.227941x0.343182)\n",
       "dtype: object"
      ]
     },
     "execution_count": 17,
     "metadata": {},
     "output_type": "execute_result"
    },
    {
     "data": {
      "image/png": "[encoded data removed]",
      "text/plain": [
       "<Figure size 720x720 with 6 Axes>"
      ]
     },
     "metadata": {
      "needs_background": "light"
     },
     "output_type": "display_data"
    }
   ],
   "source": [
    "titanic.plot(kind=\"box\", subplots=True, layout=(2,3), figsize=(10,10))"
   ]
  },
  {
   "cell_type": "code",
   "execution_count": 18,
   "id": "19fa9842",
   "metadata": {},
   "outputs": [
    {
     "data": {
      "text/html": [
       "<div>\n",
       "<style scoped>\n",
       "    .dataframe tbody tr th:only-of-type {\n",
       "        vertical-align: middle;\n",
       "    }\n",
       "\n",
       "    .dataframe tbody tr th {\n",
       "        vertical-align: top;\n",
       "    }\n",
       "\n",
       "    .dataframe thead th {\n",
       "        text-align: right;\n",
       "    }\n",
       "</style>\n",
       "<table border=\"1\" class=\"dataframe\">\n",
       "  <thead>\n",
       "    <tr style=\"text-align: right;\">\n",
       "      <th></th>\n",
       "      <th>Age</th>\n",
       "      <th>Fare</th>\n",
       "    </tr>\n",
       "  </thead>\n",
       "  <tbody>\n",
       "    <tr>\n",
       "      <th>0</th>\n",
       "      <td>29.0</td>\n",
       "      <td>211.34</td>\n",
       "    </tr>\n",
       "    <tr>\n",
       "      <th>1</th>\n",
       "      <td>0.9</td>\n",
       "      <td>151.55</td>\n",
       "    </tr>\n",
       "    <tr>\n",
       "      <th>2</th>\n",
       "      <td>2.0</td>\n",
       "      <td>151.55</td>\n",
       "    </tr>\n",
       "    <tr>\n",
       "      <th>3</th>\n",
       "      <td>30.0</td>\n",
       "      <td>151.55</td>\n",
       "    </tr>\n",
       "    <tr>\n",
       "      <th>4</th>\n",
       "      <td>25.0</td>\n",
       "      <td>151.55</td>\n",
       "    </tr>\n",
       "  </tbody>\n",
       "</table>\n",
       "</div>"
      ],
      "text/plain": [
       "    Age    Fare\n",
       "0  29.0  211.34\n",
       "1   0.9  151.55\n",
       "2   2.0  151.55\n",
       "3  30.0  151.55\n",
       "4  25.0  151.55"
      ]
     },
     "execution_count": 18,
     "metadata": {},
     "output_type": "execute_result"
    }
   ],
   "source": [
    "x = titanic.iloc[:,[2,5]]\n",
    "x.head()"
   ]
  },
  {
   "cell_type": "code",
   "execution_count": 19,
   "id": "cd81e533",
   "metadata": {},
   "outputs": [
    {
     "name": "stdout",
     "output_type": "stream",
     "text": [
      "pos_outlier Age     54.50\n",
      "Fare    66.35\n",
      "dtype: float64\n",
      "neg_outlier Age      2.50\n",
      "Fare   -27.17\n",
      "dtype: float64\n"
     ]
    }
   ],
   "source": [
    "Q1 = x.quantile(0.25)\n",
    "Q3 = x.quantile(0.75)\n",
    "IQR = Q3 - Q1\n",
    "pos_outlier = Q3 + 1.5 * IQR\n",
    "neg_outlier = Q1 - 1.5 * IQR\n",
    "print(\"pos_outlier\",pos_outlier)\n",
    "print(\"neg_outlier\",neg_outlier)"
   ]
  },
  {
   "cell_type": "code",
   "execution_count": 20,
   "id": "f8d47416",
   "metadata": {},
   "outputs": [],
   "source": [
    "def find_outliers_IQR(df):\n",
    "    q1=df.quantile(0.25)\n",
    "    q3=df.quantile(0.75)\n",
    "    IQR=q3-q1\n",
    "    outliers = df[((df<(q1-1.5*IQR)) | (df>(q3+1.5*IQR)))]\n",
    "    return outliers"
   ]
  },
  {
   "cell_type": "code",
   "execution_count": 21,
   "id": "141113e7",
   "metadata": {},
   "outputs": [
    {
     "name": "stdout",
     "output_type": "stream",
     "text": [
      "number of outliers: 101\n",
      "percentage of outliers:  7.715813598166539\n",
      "max outlier value: 80.0\n",
      "min outlier value: 0.2\n"
     ]
    },
    {
     "data": {
      "text/plain": [
       "1        0.9\n",
       "2        2.0\n",
       "6       63.0\n",
       "9       71.0\n",
       "14      80.0\n",
       "        ... \n",
       "1225    60.5\n",
       "1230     2.0\n",
       "1235    74.0\n",
       "1240     0.4\n",
       "1261    63.0\n",
       "Name: Age, Length: 101, dtype: float64"
      ]
     },
     "execution_count": 21,
     "metadata": {},
     "output_type": "execute_result"
    }
   ],
   "source": [
    "outliers = find_outliers_IQR(titanic[\"Age\"])\n",
    "print(\"number of outliers: \"+ str(len(outliers)))\n",
    "print(\"percentage of outliers: \", len(outliers)/1309*100)\n",
    "print(\"max outlier value: \"+ str(outliers.max()))\n",
    "print(\"min outlier value: \"+ str(outliers.min()))\n",
    "outliers"
   ]
  },
  {
   "cell_type": "code",
   "execution_count": 22,
   "id": "61265660",
   "metadata": {},
   "outputs": [
    {
     "name": "stdout",
     "output_type": "stream",
     "text": [
      "number of outliers: 171\n",
      "percentage of outliers:  13.06340718105424\n",
      "max outlier value: 512.33\n",
      "min outlier value: 66.6\n"
     ]
    },
    {
     "data": {
      "text/plain": [
       "0       211.34\n",
       "1       151.55\n",
       "2       151.55\n",
       "3       151.55\n",
       "4       151.55\n",
       "         ...  \n",
       "1176     69.55\n",
       "1177     69.55\n",
       "1178     69.55\n",
       "1179     69.55\n",
       "1180     69.55\n",
       "Name: Fare, Length: 171, dtype: float64"
      ]
     },
     "execution_count": 22,
     "metadata": {},
     "output_type": "execute_result"
    }
   ],
   "source": [
    "outliers = find_outliers_IQR(titanic[\"Fare\"])\n",
    "print(\"number of outliers: \"+ str(len(outliers)))\n",
    "print(\"percentage of outliers: \", len(outliers)/1309*100)\n",
    "print(\"max outlier value: \"+ str(outliers.max()))\n",
    "print(\"min outlier value: \"+ str(outliers.min()))\n",
    "outliers"
   ]
  },
  {
   "cell_type": "code",
   "execution_count": 23,
   "id": "2964fef9",
   "metadata": {},
   "outputs": [],
   "source": [
    "#No Column i,e Age and Fare has outliers more than 25% so we cant drop any column \n",
    "#Outlier treatment"
   ]
  },
  {
   "cell_type": "code",
   "execution_count": 24,
   "id": "d420b56f",
   "metadata": {},
   "outputs": [],
   "source": [
    "#creating copy of original set\n",
    "titanic1=titanic.copy()"
   ]
  },
  {
   "cell_type": "code",
   "execution_count": 25,
   "id": "a5145fb1",
   "metadata": {},
   "outputs": [
    {
     "name": "stderr",
     "output_type": "stream",
     "text": [
      "/var/folders/5b/12xkc9vj1yg98rwcq_v34v_00000gn/T/ipykernel_18862/3821933385.py:2: FutureWarning: Automatic reindexing on DataFrame vs Series comparisons is deprecated and will raise ValueError in a future version.  Do `left, right = left.align(right, axis=1, copy=False)` before e.g. `left == right`\n",
      "  titanic[~((titanic1<(Q1 - 1.5 *IQR)) | (titanic1 > (Q3 + 1.5 *IQR))).any(axis=1)]\n"
     ]
    },
    {
     "data": {
      "text/html": [
       "<div>\n",
       "<style scoped>\n",
       "    .dataframe tbody tr th:only-of-type {\n",
       "        vertical-align: middle;\n",
       "    }\n",
       "\n",
       "    .dataframe tbody tr th {\n",
       "        vertical-align: top;\n",
       "    }\n",
       "\n",
       "    .dataframe thead th {\n",
       "        text-align: right;\n",
       "    }\n",
       "</style>\n",
       "<table border=\"1\" class=\"dataframe\">\n",
       "  <thead>\n",
       "    <tr style=\"text-align: right;\">\n",
       "      <th></th>\n",
       "      <th>Pclass</th>\n",
       "      <th>Gender</th>\n",
       "      <th>Age</th>\n",
       "      <th>SibSp</th>\n",
       "      <th>ParCh</th>\n",
       "      <th>Fare</th>\n",
       "      <th>Embarked</th>\n",
       "      <th>Status</th>\n",
       "    </tr>\n",
       "  </thead>\n",
       "  <tbody>\n",
       "    <tr>\n",
       "      <th>5</th>\n",
       "      <td>1</td>\n",
       "      <td>Male</td>\n",
       "      <td>48.0</td>\n",
       "      <td>0</td>\n",
       "      <td>0</td>\n",
       "      <td>26.55</td>\n",
       "      <td>Southampton</td>\n",
       "      <td>S</td>\n",
       "    </tr>\n",
       "    <tr>\n",
       "      <th>7</th>\n",
       "      <td>1</td>\n",
       "      <td>Male</td>\n",
       "      <td>39.0</td>\n",
       "      <td>0</td>\n",
       "      <td>0</td>\n",
       "      <td>0.00</td>\n",
       "      <td>Southampton</td>\n",
       "      <td>D</td>\n",
       "    </tr>\n",
       "    <tr>\n",
       "      <th>8</th>\n",
       "      <td>1</td>\n",
       "      <td>Female</td>\n",
       "      <td>53.0</td>\n",
       "      <td>2</td>\n",
       "      <td>0</td>\n",
       "      <td>51.48</td>\n",
       "      <td>Southampton</td>\n",
       "      <td>S</td>\n",
       "    </tr>\n",
       "    <tr>\n",
       "      <th>15</th>\n",
       "      <td>1</td>\n",
       "      <td>Male</td>\n",
       "      <td>28.0</td>\n",
       "      <td>0</td>\n",
       "      <td>0</td>\n",
       "      <td>25.93</td>\n",
       "      <td>Southampton</td>\n",
       "      <td>D</td>\n",
       "    </tr>\n",
       "    <tr>\n",
       "      <th>20</th>\n",
       "      <td>1</td>\n",
       "      <td>Male</td>\n",
       "      <td>37.0</td>\n",
       "      <td>1</td>\n",
       "      <td>1</td>\n",
       "      <td>52.55</td>\n",
       "      <td>Southampton</td>\n",
       "      <td>S</td>\n",
       "    </tr>\n",
       "    <tr>\n",
       "      <th>...</th>\n",
       "      <td>...</td>\n",
       "      <td>...</td>\n",
       "      <td>...</td>\n",
       "      <td>...</td>\n",
       "      <td>...</td>\n",
       "      <td>...</td>\n",
       "      <td>...</td>\n",
       "      <td>...</td>\n",
       "    </tr>\n",
       "    <tr>\n",
       "      <th>1304</th>\n",
       "      <td>3</td>\n",
       "      <td>Female</td>\n",
       "      <td>14.5</td>\n",
       "      <td>1</td>\n",
       "      <td>0</td>\n",
       "      <td>14.45</td>\n",
       "      <td>Cherbourg</td>\n",
       "      <td>D</td>\n",
       "    </tr>\n",
       "    <tr>\n",
       "      <th>1305</th>\n",
       "      <td>3</td>\n",
       "      <td>Female</td>\n",
       "      <td>28.0</td>\n",
       "      <td>1</td>\n",
       "      <td>0</td>\n",
       "      <td>14.45</td>\n",
       "      <td>Cherbourg</td>\n",
       "      <td>D</td>\n",
       "    </tr>\n",
       "    <tr>\n",
       "      <th>1306</th>\n",
       "      <td>3</td>\n",
       "      <td>Male</td>\n",
       "      <td>26.5</td>\n",
       "      <td>0</td>\n",
       "      <td>0</td>\n",
       "      <td>7.23</td>\n",
       "      <td>Cherbourg</td>\n",
       "      <td>D</td>\n",
       "    </tr>\n",
       "    <tr>\n",
       "      <th>1307</th>\n",
       "      <td>3</td>\n",
       "      <td>Male</td>\n",
       "      <td>27.0</td>\n",
       "      <td>0</td>\n",
       "      <td>0</td>\n",
       "      <td>7.23</td>\n",
       "      <td>Cherbourg</td>\n",
       "      <td>D</td>\n",
       "    </tr>\n",
       "    <tr>\n",
       "      <th>1308</th>\n",
       "      <td>3</td>\n",
       "      <td>Male</td>\n",
       "      <td>29.0</td>\n",
       "      <td>0</td>\n",
       "      <td>0</td>\n",
       "      <td>7.88</td>\n",
       "      <td>Southampton</td>\n",
       "      <td>D</td>\n",
       "    </tr>\n",
       "  </tbody>\n",
       "</table>\n",
       "<p>1062 rows × 8 columns</p>\n",
       "</div>"
      ],
      "text/plain": [
       "      Pclass  Gender   Age  SibSp  ParCh   Fare     Embarked Status\n",
       "5          1    Male  48.0      0      0  26.55  Southampton      S\n",
       "7          1    Male  39.0      0      0   0.00  Southampton      D\n",
       "8          1  Female  53.0      2      0  51.48  Southampton      S\n",
       "15         1    Male  28.0      0      0  25.93  Southampton      D\n",
       "20         1    Male  37.0      1      1  52.55  Southampton      S\n",
       "...      ...     ...   ...    ...    ...    ...          ...    ...\n",
       "1304       3  Female  14.5      1      0  14.45    Cherbourg      D\n",
       "1305       3  Female  28.0      1      0  14.45    Cherbourg      D\n",
       "1306       3    Male  26.5      0      0   7.23    Cherbourg      D\n",
       "1307       3    Male  27.0      0      0   7.23    Cherbourg      D\n",
       "1308       3    Male  29.0      0      0   7.88  Southampton      D\n",
       "\n",
       "[1062 rows x 8 columns]"
      ]
     },
     "execution_count": 25,
     "metadata": {},
     "output_type": "execute_result"
    }
   ],
   "source": [
    "#1.Removing outliers\n",
    "titanic[~((titanic1<(Q1 - 1.5 *IQR)) | (titanic1 > (Q3 + 1.5 *IQR))).any(axis=1)]"
   ]
  },
  {
   "cell_type": "code",
   "execution_count": 26,
   "id": "cd8221c1",
   "metadata": {},
   "outputs": [],
   "source": [
    "#2.square root transformation \n",
    "titanic1[\"Age\"]=np.sqrt(titanic1[\"Age\"])\n",
    "titanic1[\"Fare\"]=np.sqrt(titanic1[\"Fare\"])"
   ]
  },
  {
   "cell_type": "code",
   "execution_count": 27,
   "id": "6f9e2c3e",
   "metadata": {},
   "outputs": [
    {
     "name": "stdout",
     "output_type": "stream",
     "text": [
      "number of outliers: 105\n",
      "percentage of outliers:  8.02139037433155\n",
      "max outlier value: 8.94427190999916\n",
      "min outlier value: 0.4472135954999579\n"
     ]
    },
    {
     "data": {
      "text/plain": [
       "1       0.948683\n",
       "2       1.414214\n",
       "6       7.937254\n",
       "9       8.426150\n",
       "14      8.944272\n",
       "          ...   \n",
       "1230    1.414214\n",
       "1235    8.602325\n",
       "1240    0.632456\n",
       "1256    2.645751\n",
       "1261    7.937254\n",
       "Name: Age, Length: 105, dtype: float64"
      ]
     },
     "execution_count": 27,
     "metadata": {},
     "output_type": "execute_result"
    }
   ],
   "source": [
    "outliers = find_outliers_IQR(titanic1[\"Age\"])\n",
    "print(\"number of outliers: \"+ str(len(outliers)))\n",
    "print(\"percentage of outliers: \", len(outliers)/1309*100)\n",
    "print(\"max outlier value: \"+ str(outliers.max()))\n",
    "print(\"min outlier value: \"+ str(outliers.min()))\n",
    "outliers"
   ]
  },
  {
   "cell_type": "code",
   "execution_count": 28,
   "id": "a1baee80",
   "metadata": {},
   "outputs": [
    {
     "name": "stdout",
     "output_type": "stream",
     "text": [
      "number of outliers: 84\n",
      "percentage of outliers:  6.417112299465241\n",
      "max outlier value: 22.634707862042312\n",
      "min outlier value: 10.316491651719591\n"
     ]
    },
    {
     "data": {
      "text/plain": [
       "0      14.537538\n",
       "1      12.310565\n",
       "2      12.310565\n",
       "3      12.310565\n",
       "4      12.310565\n",
       "         ...    \n",
       "312    14.543040\n",
       "313    14.543040\n",
       "314    14.543040\n",
       "319    11.597414\n",
       "322    11.646029\n",
       "Name: Fare, Length: 84, dtype: float64"
      ]
     },
     "execution_count": 28,
     "metadata": {},
     "output_type": "execute_result"
    }
   ],
   "source": [
    "outliers = find_outliers_IQR(titanic1[\"Fare\"])\n",
    "print(\"number of outliers: \"+ str(len(outliers)))\n",
    "print(\"percentage of outliers: \", len(outliers)/1309*100)\n",
    "print(\"max outlier value: \"+ str(outliers.max()))\n",
    "print(\"min outlier value: \"+ str(outliers.min()))\n",
    "outliers"
   ]
  },
  {
   "cell_type": "code",
   "execution_count": 29,
   "id": "daed7471",
   "metadata": {},
   "outputs": [],
   "source": [
    "#2.cube root transformation \n",
    "titanic2=titanic.copy()\n",
    "titanic2[\"Age\"]=np.cbrt(titanic2[\"Age\"])\n",
    "titanic2[\"Fare\"]=np.cbrt(titanic2[\"Fare\"])"
   ]
  },
  {
   "cell_type": "code",
   "execution_count": 30,
   "id": "f1fe4230",
   "metadata": {},
   "outputs": [
    {
     "name": "stdout",
     "output_type": "stream",
     "text": [
      "number of outliers: 104\n",
      "percentage of outliers:  7.944996180290298\n",
      "max outlier value: 4.308869380063768\n",
      "min outlier value: 0.5848035476425733\n"
     ]
    },
    {
     "data": {
      "text/plain": [
       "1       0.965489\n",
       "2       1.259921\n",
       "6       3.979057\n",
       "9       4.140818\n",
       "14      4.308869\n",
       "          ...   \n",
       "1235    4.198336\n",
       "1240    0.736806\n",
       "1256    1.912931\n",
       "1257    2.080084\n",
       "1261    3.979057\n",
       "Name: Age, Length: 104, dtype: float64"
      ]
     },
     "execution_count": 30,
     "metadata": {},
     "output_type": "execute_result"
    }
   ],
   "source": [
    "outliers = find_outliers_IQR(titanic2[\"Age\"])\n",
    "print(\"number of outliers: \"+ str(len(outliers)))\n",
    "print(\"percentage of outliers: \", len(outliers)/1309*100)\n",
    "print(\"max outlier value: \"+ str(outliers.max()))\n",
    "print(\"min outlier value: \"+ str(outliers.min()))\n",
    "outliers"
   ]
  },
  {
   "cell_type": "code",
   "execution_count": 31,
   "id": "52905599",
   "metadata": {},
   "outputs": [
    {
     "name": "stdout",
     "output_type": "stream",
     "text": [
      "number of outliers: 88\n",
      "percentage of outliers:  6.722689075630252\n",
      "max outlier value: 8.001718380869471\n",
      "min outlier value: 0.0\n"
     ]
    },
    {
     "data": {
      "text/plain": [
       "0       5.956538\n",
       "1       5.331532\n",
       "2       5.331532\n",
       "3       5.331532\n",
       "4       5.331532\n",
       "          ...   \n",
       "581     0.000000\n",
       "896     0.000000\n",
       "898     0.000000\n",
       "963     0.000000\n",
       "1254    0.000000\n",
       "Name: Fare, Length: 88, dtype: float64"
      ]
     },
     "execution_count": 31,
     "metadata": {},
     "output_type": "execute_result"
    }
   ],
   "source": [
    "outliers = find_outliers_IQR(titanic2[\"Fare\"])\n",
    "print(\"number of outliers: \"+ str(len(outliers)))\n",
    "print(\"percentage of outliers: \", len(outliers)/1309*100)\n",
    "print(\"max outlier value: \"+ str(outliers.max()))\n",
    "print(\"min outlier value: \"+ str(outliers.min()))\n",
    "outliers"
   ]
  },
  {
   "cell_type": "code",
   "execution_count": 32,
   "id": "777013fb",
   "metadata": {},
   "outputs": [
    {
     "data": {
      "text/plain": [
       "0       3.072317\n",
       "1       0.965489\n",
       "2       1.259921\n",
       "3       3.107233\n",
       "4       2.924018\n",
       "          ...   \n",
       "1304    2.438499\n",
       "1305    3.036589\n",
       "1306    2.981366\n",
       "1307    3.000000\n",
       "1308    3.072317\n",
       "Name: Age, Length: 1309, dtype: float64"
      ]
     },
     "execution_count": 32,
     "metadata": {},
     "output_type": "execute_result"
    }
   ],
   "source": [
    "#3. logartihm  transformation \n",
    "titanic3=titanic.copy()\n",
    "titanic3[\"Age\"]=np.cbrt(titanic3[\"Age\"])\n",
    "titanic3[\"Fare\"]=np.cbrt(titanic3[\"Fare\"])\n",
    "titanic3[\"Age\"]"
   ]
  },
  {
   "cell_type": "code",
   "execution_count": 33,
   "id": "32691f07",
   "metadata": {},
   "outputs": [
    {
     "name": "stdout",
     "output_type": "stream",
     "text": [
      "number of outliers: 104\n",
      "percentage of outliers:  7.944996180290298\n",
      "max outlier value: 4.308869380063768\n",
      "min outlier value: 0.5848035476425733\n"
     ]
    },
    {
     "data": {
      "text/plain": [
       "1       0.965489\n",
       "2       1.259921\n",
       "6       3.979057\n",
       "9       4.140818\n",
       "14      4.308869\n",
       "          ...   \n",
       "1235    4.198336\n",
       "1240    0.736806\n",
       "1256    1.912931\n",
       "1257    2.080084\n",
       "1261    3.979057\n",
       "Name: Age, Length: 104, dtype: float64"
      ]
     },
     "execution_count": 33,
     "metadata": {},
     "output_type": "execute_result"
    }
   ],
   "source": [
    "outliers = find_outliers_IQR(titanic3[\"Age\"])\n",
    "print(\"number of outliers: \"+ str(len(outliers)))\n",
    "print(\"percentage of outliers: \", len(outliers)/1309*100)\n",
    "print(\"max outlier value: \"+ str(outliers.max()))\n",
    "print(\"min outlier value: \"+ str(outliers.min()))\n",
    "outliers"
   ]
  },
  {
   "cell_type": "code",
   "execution_count": 34,
   "id": "efbcbaac",
   "metadata": {},
   "outputs": [
    {
     "name": "stdout",
     "output_type": "stream",
     "text": [
      "number of outliers: 88\n",
      "percentage of outliers:  6.722689075630252\n",
      "max outlier value: 8.001718380869471\n",
      "min outlier value: 0.0\n"
     ]
    },
    {
     "data": {
      "text/plain": [
       "0       5.956538\n",
       "1       5.331532\n",
       "2       5.331532\n",
       "3       5.331532\n",
       "4       5.331532\n",
       "          ...   \n",
       "581     0.000000\n",
       "896     0.000000\n",
       "898     0.000000\n",
       "963     0.000000\n",
       "1254    0.000000\n",
       "Name: Fare, Length: 88, dtype: float64"
      ]
     },
     "execution_count": 34,
     "metadata": {},
     "output_type": "execute_result"
    }
   ],
   "source": [
    "outliers = find_outliers_IQR(titanic3[\"Fare\"])\n",
    "print(\"number of outliers: \"+ str(len(outliers)))\n",
    "print(\"percentage of outliers: \", len(outliers)/1309*100)\n",
    "print(\"max outlier value: \"+ str(outliers.max()))\n",
    "print(\"min outlier value: \"+ str(outliers.min()))\n",
    "outliers"
   ]
  },
  {
   "cell_type": "code",
   "execution_count": 35,
   "id": "52e963bf",
   "metadata": {},
   "outputs": [],
   "source": [
    "#outlier percentage decrease in fare but not in age \n",
    "#We can use capping technique and any of above as per discussion by vendor/client\n"
   ]
  },
  {
   "cell_type": "code",
   "execution_count": 36,
   "id": "21c408da",
   "metadata": {},
   "outputs": [
    {
     "data": {
      "text/html": [
       "<div>\n",
       "<style scoped>\n",
       "    .dataframe tbody tr th:only-of-type {\n",
       "        vertical-align: middle;\n",
       "    }\n",
       "\n",
       "    .dataframe tbody tr th {\n",
       "        vertical-align: top;\n",
       "    }\n",
       "\n",
       "    .dataframe thead th {\n",
       "        text-align: right;\n",
       "    }\n",
       "</style>\n",
       "<table border=\"1\" class=\"dataframe\">\n",
       "  <thead>\n",
       "    <tr style=\"text-align: right;\">\n",
       "      <th></th>\n",
       "      <th>Pclass</th>\n",
       "      <th>Gender</th>\n",
       "      <th>Age</th>\n",
       "      <th>SibSp</th>\n",
       "      <th>ParCh</th>\n",
       "      <th>Fare</th>\n",
       "      <th>Embarked</th>\n",
       "      <th>Status</th>\n",
       "    </tr>\n",
       "  </thead>\n",
       "  <tbody>\n",
       "    <tr>\n",
       "      <th>0</th>\n",
       "      <td>1</td>\n",
       "      <td>Female</td>\n",
       "      <td>29.0</td>\n",
       "      <td>0</td>\n",
       "      <td>0</td>\n",
       "      <td>211.34</td>\n",
       "      <td>Southampton</td>\n",
       "      <td>S</td>\n",
       "    </tr>\n",
       "    <tr>\n",
       "      <th>1</th>\n",
       "      <td>1</td>\n",
       "      <td>Male</td>\n",
       "      <td>0.9</td>\n",
       "      <td>1</td>\n",
       "      <td>2</td>\n",
       "      <td>151.55</td>\n",
       "      <td>Southampton</td>\n",
       "      <td>S</td>\n",
       "    </tr>\n",
       "    <tr>\n",
       "      <th>2</th>\n",
       "      <td>1</td>\n",
       "      <td>Female</td>\n",
       "      <td>2.0</td>\n",
       "      <td>1</td>\n",
       "      <td>2</td>\n",
       "      <td>151.55</td>\n",
       "      <td>Southampton</td>\n",
       "      <td>D</td>\n",
       "    </tr>\n",
       "    <tr>\n",
       "      <th>3</th>\n",
       "      <td>1</td>\n",
       "      <td>Male</td>\n",
       "      <td>30.0</td>\n",
       "      <td>1</td>\n",
       "      <td>2</td>\n",
       "      <td>151.55</td>\n",
       "      <td>Southampton</td>\n",
       "      <td>D</td>\n",
       "    </tr>\n",
       "    <tr>\n",
       "      <th>4</th>\n",
       "      <td>1</td>\n",
       "      <td>Female</td>\n",
       "      <td>25.0</td>\n",
       "      <td>1</td>\n",
       "      <td>2</td>\n",
       "      <td>151.55</td>\n",
       "      <td>Southampton</td>\n",
       "      <td>D</td>\n",
       "    </tr>\n",
       "  </tbody>\n",
       "</table>\n",
       "</div>"
      ],
      "text/plain": [
       "   Pclass  Gender   Age  SibSp  ParCh    Fare     Embarked Status\n",
       "0       1  Female  29.0      0      0  211.34  Southampton      S\n",
       "1       1    Male   0.9      1      2  151.55  Southampton      S\n",
       "2       1  Female   2.0      1      2  151.55  Southampton      D\n",
       "3       1    Male  30.0      1      2  151.55  Southampton      D\n",
       "4       1  Female  25.0      1      2  151.55  Southampton      D"
      ]
     },
     "execution_count": 36,
     "metadata": {},
     "output_type": "execute_result"
    }
   ],
   "source": [
    "#3. Encoding Techniques\n",
    "#only for char variable:\n",
    "titanic.head()"
   ]
  },
  {
   "cell_type": "code",
   "execution_count": 37,
   "id": "dbfbabfb",
   "metadata": {
    "scrolled": true
   },
   "outputs": [
    {
     "data": {
      "text/html": [
       "<div>\n",
       "<style scoped>\n",
       "    .dataframe tbody tr th:only-of-type {\n",
       "        vertical-align: middle;\n",
       "    }\n",
       "\n",
       "    .dataframe tbody tr th {\n",
       "        vertical-align: top;\n",
       "    }\n",
       "\n",
       "    .dataframe thead th {\n",
       "        text-align: right;\n",
       "    }\n",
       "</style>\n",
       "<table border=\"1\" class=\"dataframe\">\n",
       "  <thead>\n",
       "    <tr style=\"text-align: right;\">\n",
       "      <th></th>\n",
       "      <th>Pclass</th>\n",
       "      <th>Gender</th>\n",
       "      <th>Age</th>\n",
       "      <th>SibSp</th>\n",
       "      <th>ParCh</th>\n",
       "      <th>Fare</th>\n",
       "      <th>Embarked</th>\n",
       "      <th>Status</th>\n",
       "    </tr>\n",
       "  </thead>\n",
       "  <tbody>\n",
       "    <tr>\n",
       "      <th>0</th>\n",
       "      <td>1</td>\n",
       "      <td>0</td>\n",
       "      <td>29.0</td>\n",
       "      <td>0</td>\n",
       "      <td>0</td>\n",
       "      <td>211.34</td>\n",
       "      <td>2</td>\n",
       "      <td>1</td>\n",
       "    </tr>\n",
       "    <tr>\n",
       "      <th>1</th>\n",
       "      <td>1</td>\n",
       "      <td>1</td>\n",
       "      <td>0.9</td>\n",
       "      <td>1</td>\n",
       "      <td>2</td>\n",
       "      <td>151.55</td>\n",
       "      <td>2</td>\n",
       "      <td>1</td>\n",
       "    </tr>\n",
       "    <tr>\n",
       "      <th>2</th>\n",
       "      <td>1</td>\n",
       "      <td>0</td>\n",
       "      <td>2.0</td>\n",
       "      <td>1</td>\n",
       "      <td>2</td>\n",
       "      <td>151.55</td>\n",
       "      <td>2</td>\n",
       "      <td>0</td>\n",
       "    </tr>\n",
       "    <tr>\n",
       "      <th>3</th>\n",
       "      <td>1</td>\n",
       "      <td>1</td>\n",
       "      <td>30.0</td>\n",
       "      <td>1</td>\n",
       "      <td>2</td>\n",
       "      <td>151.55</td>\n",
       "      <td>2</td>\n",
       "      <td>0</td>\n",
       "    </tr>\n",
       "    <tr>\n",
       "      <th>4</th>\n",
       "      <td>1</td>\n",
       "      <td>0</td>\n",
       "      <td>25.0</td>\n",
       "      <td>1</td>\n",
       "      <td>2</td>\n",
       "      <td>151.55</td>\n",
       "      <td>2</td>\n",
       "      <td>0</td>\n",
       "    </tr>\n",
       "    <tr>\n",
       "      <th>...</th>\n",
       "      <td>...</td>\n",
       "      <td>...</td>\n",
       "      <td>...</td>\n",
       "      <td>...</td>\n",
       "      <td>...</td>\n",
       "      <td>...</td>\n",
       "      <td>...</td>\n",
       "      <td>...</td>\n",
       "    </tr>\n",
       "    <tr>\n",
       "      <th>1304</th>\n",
       "      <td>3</td>\n",
       "      <td>0</td>\n",
       "      <td>14.5</td>\n",
       "      <td>1</td>\n",
       "      <td>0</td>\n",
       "      <td>14.45</td>\n",
       "      <td>0</td>\n",
       "      <td>0</td>\n",
       "    </tr>\n",
       "    <tr>\n",
       "      <th>1305</th>\n",
       "      <td>3</td>\n",
       "      <td>0</td>\n",
       "      <td>28.0</td>\n",
       "      <td>1</td>\n",
       "      <td>0</td>\n",
       "      <td>14.45</td>\n",
       "      <td>0</td>\n",
       "      <td>0</td>\n",
       "    </tr>\n",
       "    <tr>\n",
       "      <th>1306</th>\n",
       "      <td>3</td>\n",
       "      <td>1</td>\n",
       "      <td>26.5</td>\n",
       "      <td>0</td>\n",
       "      <td>0</td>\n",
       "      <td>7.23</td>\n",
       "      <td>0</td>\n",
       "      <td>0</td>\n",
       "    </tr>\n",
       "    <tr>\n",
       "      <th>1307</th>\n",
       "      <td>3</td>\n",
       "      <td>1</td>\n",
       "      <td>27.0</td>\n",
       "      <td>0</td>\n",
       "      <td>0</td>\n",
       "      <td>7.23</td>\n",
       "      <td>0</td>\n",
       "      <td>0</td>\n",
       "    </tr>\n",
       "    <tr>\n",
       "      <th>1308</th>\n",
       "      <td>3</td>\n",
       "      <td>1</td>\n",
       "      <td>29.0</td>\n",
       "      <td>0</td>\n",
       "      <td>0</td>\n",
       "      <td>7.88</td>\n",
       "      <td>2</td>\n",
       "      <td>0</td>\n",
       "    </tr>\n",
       "  </tbody>\n",
       "</table>\n",
       "<p>1309 rows × 8 columns</p>\n",
       "</div>"
      ],
      "text/plain": [
       "      Pclass  Gender   Age  SibSp  ParCh    Fare  Embarked  Status\n",
       "0          1       0  29.0      0      0  211.34         2       1\n",
       "1          1       1   0.9      1      2  151.55         2       1\n",
       "2          1       0   2.0      1      2  151.55         2       0\n",
       "3          1       1  30.0      1      2  151.55         2       0\n",
       "4          1       0  25.0      1      2  151.55         2       0\n",
       "...      ...     ...   ...    ...    ...     ...       ...     ...\n",
       "1304       3       0  14.5      1      0   14.45         0       0\n",
       "1305       3       0  28.0      1      0   14.45         0       0\n",
       "1306       3       1  26.5      0      0    7.23         0       0\n",
       "1307       3       1  27.0      0      0    7.23         0       0\n",
       "1308       3       1  29.0      0      0    7.88         2       0\n",
       "\n",
       "[1309 rows x 8 columns]"
      ]
     },
     "execution_count": 37,
     "metadata": {},
     "output_type": "execute_result"
    }
   ],
   "source": [
    "# LAble Encoding \n",
    "titanic4=titanic.copy()\n",
    "from sklearn.preprocessing import LabelEncoder\n",
    "le=LabelEncoder()\n",
    "le_Gender=le.fit_transform(titanic4[\"Gender\"])\n",
    "le_Status=le.fit_transform(titanic4[\"Status\"])\n",
    "le_Embarked=le.fit_transform(titanic4[\"Embarked\"])\n",
    "# print(le_Gender)\n",
    "# print(le_Status)\n",
    "# print(le_Embarked)\n",
    "titanic4[\"Gender\"]=le_Gender\n",
    "titanic4[\"Status\"]=le_Status\n",
    "titanic4[\"Embarked\"]=le_Embarked\n",
    "titanic4"
   ]
  },
  {
   "cell_type": "code",
   "execution_count": 38,
   "id": "7ed745b4",
   "metadata": {},
   "outputs": [],
   "source": [
    "#One hot encoding\n",
    "titanic5=titanic.copy()\n",
    "from sklearn.preprocessing import OneHotEncoder  \n",
    "ohe = OneHotEncoder() \n",
    "ohe_data=pd.DataFrame(ohe.fit_transform(titanic5[['Gender','Status','Embarked']]).toarray()) \n",
    "titanic5[\"Gender_0\"]=ohe_data[0]\n",
    "titanic5[\"Gender_1\"]=ohe_data[1]\n",
    "titanic5[\"Status_0\"]=ohe_data[2]\n",
    "titanic5[\"Status_1\"]=ohe_data[3]\n",
    "titanic5[\"Embarked_0\"]=ohe_data[4]\n",
    "titanic5[\"Embarked_1\"]=ohe_data[5]\n",
    "titanic5[\"Embarked_2\"]=ohe_data[6]\n",
    "titanic5[\"Embarked_3\"]=ohe_data[7]"
   ]
  },
  {
   "cell_type": "code",
   "execution_count": 39,
   "id": "b7bf619c",
   "metadata": {},
   "outputs": [
    {
     "data": {
      "text/html": [
       "<div>\n",
       "<style scoped>\n",
       "    .dataframe tbody tr th:only-of-type {\n",
       "        vertical-align: middle;\n",
       "    }\n",
       "\n",
       "    .dataframe tbody tr th {\n",
       "        vertical-align: top;\n",
       "    }\n",
       "\n",
       "    .dataframe thead th {\n",
       "        text-align: right;\n",
       "    }\n",
       "</style>\n",
       "<table border=\"1\" class=\"dataframe\">\n",
       "  <thead>\n",
       "    <tr style=\"text-align: right;\">\n",
       "      <th></th>\n",
       "      <th>Pclass</th>\n",
       "      <th>Gender</th>\n",
       "      <th>Age</th>\n",
       "      <th>SibSp</th>\n",
       "      <th>ParCh</th>\n",
       "      <th>Fare</th>\n",
       "      <th>Embarked</th>\n",
       "      <th>Status</th>\n",
       "      <th>Gender_0</th>\n",
       "      <th>Gender_1</th>\n",
       "      <th>Status_0</th>\n",
       "      <th>Status_1</th>\n",
       "      <th>Embarked_0</th>\n",
       "      <th>Embarked_1</th>\n",
       "      <th>Embarked_2</th>\n",
       "      <th>Embarked_3</th>\n",
       "    </tr>\n",
       "  </thead>\n",
       "  <tbody>\n",
       "    <tr>\n",
       "      <th>0</th>\n",
       "      <td>1</td>\n",
       "      <td>Female</td>\n",
       "      <td>29.0</td>\n",
       "      <td>0</td>\n",
       "      <td>0</td>\n",
       "      <td>211.34</td>\n",
       "      <td>Southampton</td>\n",
       "      <td>S</td>\n",
       "      <td>1.0</td>\n",
       "      <td>0.0</td>\n",
       "      <td>0.0</td>\n",
       "      <td>1.0</td>\n",
       "      <td>0.0</td>\n",
       "      <td>0.0</td>\n",
       "      <td>1.0</td>\n",
       "      <td>0.0</td>\n",
       "    </tr>\n",
       "    <tr>\n",
       "      <th>1</th>\n",
       "      <td>1</td>\n",
       "      <td>Male</td>\n",
       "      <td>0.9</td>\n",
       "      <td>1</td>\n",
       "      <td>2</td>\n",
       "      <td>151.55</td>\n",
       "      <td>Southampton</td>\n",
       "      <td>S</td>\n",
       "      <td>0.0</td>\n",
       "      <td>1.0</td>\n",
       "      <td>0.0</td>\n",
       "      <td>1.0</td>\n",
       "      <td>0.0</td>\n",
       "      <td>0.0</td>\n",
       "      <td>1.0</td>\n",
       "      <td>0.0</td>\n",
       "    </tr>\n",
       "    <tr>\n",
       "      <th>2</th>\n",
       "      <td>1</td>\n",
       "      <td>Female</td>\n",
       "      <td>2.0</td>\n",
       "      <td>1</td>\n",
       "      <td>2</td>\n",
       "      <td>151.55</td>\n",
       "      <td>Southampton</td>\n",
       "      <td>D</td>\n",
       "      <td>1.0</td>\n",
       "      <td>0.0</td>\n",
       "      <td>1.0</td>\n",
       "      <td>0.0</td>\n",
       "      <td>0.0</td>\n",
       "      <td>0.0</td>\n",
       "      <td>1.0</td>\n",
       "      <td>0.0</td>\n",
       "    </tr>\n",
       "    <tr>\n",
       "      <th>3</th>\n",
       "      <td>1</td>\n",
       "      <td>Male</td>\n",
       "      <td>30.0</td>\n",
       "      <td>1</td>\n",
       "      <td>2</td>\n",
       "      <td>151.55</td>\n",
       "      <td>Southampton</td>\n",
       "      <td>D</td>\n",
       "      <td>0.0</td>\n",
       "      <td>1.0</td>\n",
       "      <td>1.0</td>\n",
       "      <td>0.0</td>\n",
       "      <td>0.0</td>\n",
       "      <td>0.0</td>\n",
       "      <td>1.0</td>\n",
       "      <td>0.0</td>\n",
       "    </tr>\n",
       "    <tr>\n",
       "      <th>4</th>\n",
       "      <td>1</td>\n",
       "      <td>Female</td>\n",
       "      <td>25.0</td>\n",
       "      <td>1</td>\n",
       "      <td>2</td>\n",
       "      <td>151.55</td>\n",
       "      <td>Southampton</td>\n",
       "      <td>D</td>\n",
       "      <td>1.0</td>\n",
       "      <td>0.0</td>\n",
       "      <td>1.0</td>\n",
       "      <td>0.0</td>\n",
       "      <td>0.0</td>\n",
       "      <td>0.0</td>\n",
       "      <td>1.0</td>\n",
       "      <td>0.0</td>\n",
       "    </tr>\n",
       "    <tr>\n",
       "      <th>...</th>\n",
       "      <td>...</td>\n",
       "      <td>...</td>\n",
       "      <td>...</td>\n",
       "      <td>...</td>\n",
       "      <td>...</td>\n",
       "      <td>...</td>\n",
       "      <td>...</td>\n",
       "      <td>...</td>\n",
       "      <td>...</td>\n",
       "      <td>...</td>\n",
       "      <td>...</td>\n",
       "      <td>...</td>\n",
       "      <td>...</td>\n",
       "      <td>...</td>\n",
       "      <td>...</td>\n",
       "      <td>...</td>\n",
       "    </tr>\n",
       "    <tr>\n",
       "      <th>1304</th>\n",
       "      <td>3</td>\n",
       "      <td>Female</td>\n",
       "      <td>14.5</td>\n",
       "      <td>1</td>\n",
       "      <td>0</td>\n",
       "      <td>14.45</td>\n",
       "      <td>Cherbourg</td>\n",
       "      <td>D</td>\n",
       "      <td>1.0</td>\n",
       "      <td>0.0</td>\n",
       "      <td>1.0</td>\n",
       "      <td>0.0</td>\n",
       "      <td>1.0</td>\n",
       "      <td>0.0</td>\n",
       "      <td>0.0</td>\n",
       "      <td>0.0</td>\n",
       "    </tr>\n",
       "    <tr>\n",
       "      <th>1305</th>\n",
       "      <td>3</td>\n",
       "      <td>Female</td>\n",
       "      <td>28.0</td>\n",
       "      <td>1</td>\n",
       "      <td>0</td>\n",
       "      <td>14.45</td>\n",
       "      <td>Cherbourg</td>\n",
       "      <td>D</td>\n",
       "      <td>1.0</td>\n",
       "      <td>0.0</td>\n",
       "      <td>1.0</td>\n",
       "      <td>0.0</td>\n",
       "      <td>1.0</td>\n",
       "      <td>0.0</td>\n",
       "      <td>0.0</td>\n",
       "      <td>0.0</td>\n",
       "    </tr>\n",
       "    <tr>\n",
       "      <th>1306</th>\n",
       "      <td>3</td>\n",
       "      <td>Male</td>\n",
       "      <td>26.5</td>\n",
       "      <td>0</td>\n",
       "      <td>0</td>\n",
       "      <td>7.23</td>\n",
       "      <td>Cherbourg</td>\n",
       "      <td>D</td>\n",
       "      <td>0.0</td>\n",
       "      <td>1.0</td>\n",
       "      <td>1.0</td>\n",
       "      <td>0.0</td>\n",
       "      <td>1.0</td>\n",
       "      <td>0.0</td>\n",
       "      <td>0.0</td>\n",
       "      <td>0.0</td>\n",
       "    </tr>\n",
       "    <tr>\n",
       "      <th>1307</th>\n",
       "      <td>3</td>\n",
       "      <td>Male</td>\n",
       "      <td>27.0</td>\n",
       "      <td>0</td>\n",
       "      <td>0</td>\n",
       "      <td>7.23</td>\n",
       "      <td>Cherbourg</td>\n",
       "      <td>D</td>\n",
       "      <td>0.0</td>\n",
       "      <td>1.0</td>\n",
       "      <td>1.0</td>\n",
       "      <td>0.0</td>\n",
       "      <td>1.0</td>\n",
       "      <td>0.0</td>\n",
       "      <td>0.0</td>\n",
       "      <td>0.0</td>\n",
       "    </tr>\n",
       "    <tr>\n",
       "      <th>1308</th>\n",
       "      <td>3</td>\n",
       "      <td>Male</td>\n",
       "      <td>29.0</td>\n",
       "      <td>0</td>\n",
       "      <td>0</td>\n",
       "      <td>7.88</td>\n",
       "      <td>Southampton</td>\n",
       "      <td>D</td>\n",
       "      <td>0.0</td>\n",
       "      <td>1.0</td>\n",
       "      <td>1.0</td>\n",
       "      <td>0.0</td>\n",
       "      <td>0.0</td>\n",
       "      <td>0.0</td>\n",
       "      <td>1.0</td>\n",
       "      <td>0.0</td>\n",
       "    </tr>\n",
       "  </tbody>\n",
       "</table>\n",
       "<p>1309 rows × 16 columns</p>\n",
       "</div>"
      ],
      "text/plain": [
       "      Pclass  Gender   Age  SibSp  ParCh    Fare     Embarked Status  \\\n",
       "0          1  Female  29.0      0      0  211.34  Southampton      S   \n",
       "1          1    Male   0.9      1      2  151.55  Southampton      S   \n",
       "2          1  Female   2.0      1      2  151.55  Southampton      D   \n",
       "3          1    Male  30.0      1      2  151.55  Southampton      D   \n",
       "4          1  Female  25.0      1      2  151.55  Southampton      D   \n",
       "...      ...     ...   ...    ...    ...     ...          ...    ...   \n",
       "1304       3  Female  14.5      1      0   14.45    Cherbourg      D   \n",
       "1305       3  Female  28.0      1      0   14.45    Cherbourg      D   \n",
       "1306       3    Male  26.5      0      0    7.23    Cherbourg      D   \n",
       "1307       3    Male  27.0      0      0    7.23    Cherbourg      D   \n",
       "1308       3    Male  29.0      0      0    7.88  Southampton      D   \n",
       "\n",
       "      Gender_0  Gender_1  Status_0  Status_1  Embarked_0  Embarked_1  \\\n",
       "0          1.0       0.0       0.0       1.0         0.0         0.0   \n",
       "1          0.0       1.0       0.0       1.0         0.0         0.0   \n",
       "2          1.0       0.0       1.0       0.0         0.0         0.0   \n",
       "3          0.0       1.0       1.0       0.0         0.0         0.0   \n",
       "4          1.0       0.0       1.0       0.0         0.0         0.0   \n",
       "...        ...       ...       ...       ...         ...         ...   \n",
       "1304       1.0       0.0       1.0       0.0         1.0         0.0   \n",
       "1305       1.0       0.0       1.0       0.0         1.0         0.0   \n",
       "1306       0.0       1.0       1.0       0.0         1.0         0.0   \n",
       "1307       0.0       1.0       1.0       0.0         1.0         0.0   \n",
       "1308       0.0       1.0       1.0       0.0         0.0         0.0   \n",
       "\n",
       "      Embarked_2  Embarked_3  \n",
       "0            1.0         0.0  \n",
       "1            1.0         0.0  \n",
       "2            1.0         0.0  \n",
       "3            1.0         0.0  \n",
       "4            1.0         0.0  \n",
       "...          ...         ...  \n",
       "1304         0.0         0.0  \n",
       "1305         0.0         0.0  \n",
       "1306         0.0         0.0  \n",
       "1307         0.0         0.0  \n",
       "1308         1.0         0.0  \n",
       "\n",
       "[1309 rows x 16 columns]"
      ]
     },
     "execution_count": 39,
     "metadata": {},
     "output_type": "execute_result"
    }
   ],
   "source": [
    "titanic5"
   ]
  },
  {
   "cell_type": "code",
   "execution_count": 40,
   "id": "d79e0168",
   "metadata": {},
   "outputs": [
    {
     "data": {
      "text/html": [
       "<div>\n",
       "<style scoped>\n",
       "    .dataframe tbody tr th:only-of-type {\n",
       "        vertical-align: middle;\n",
       "    }\n",
       "\n",
       "    .dataframe tbody tr th {\n",
       "        vertical-align: top;\n",
       "    }\n",
       "\n",
       "    .dataframe thead th {\n",
       "        text-align: right;\n",
       "    }\n",
       "</style>\n",
       "<table border=\"1\" class=\"dataframe\">\n",
       "  <thead>\n",
       "    <tr style=\"text-align: right;\">\n",
       "      <th></th>\n",
       "      <th>Pclass</th>\n",
       "      <th>Gender</th>\n",
       "      <th>Age</th>\n",
       "      <th>SibSp</th>\n",
       "      <th>ParCh</th>\n",
       "      <th>Fare</th>\n",
       "      <th>Embarked</th>\n",
       "      <th>Status</th>\n",
       "      <th>Gender_1</th>\n",
       "      <th>Status_1</th>\n",
       "      <th>Embarked_1</th>\n",
       "      <th>Embarked_2</th>\n",
       "      <th>Embarked_3</th>\n",
       "    </tr>\n",
       "  </thead>\n",
       "  <tbody>\n",
       "    <tr>\n",
       "      <th>0</th>\n",
       "      <td>1</td>\n",
       "      <td>Female</td>\n",
       "      <td>29.0</td>\n",
       "      <td>0</td>\n",
       "      <td>0</td>\n",
       "      <td>211.34</td>\n",
       "      <td>Southampton</td>\n",
       "      <td>S</td>\n",
       "      <td>0.0</td>\n",
       "      <td>1.0</td>\n",
       "      <td>0.0</td>\n",
       "      <td>1.0</td>\n",
       "      <td>0.0</td>\n",
       "    </tr>\n",
       "    <tr>\n",
       "      <th>1</th>\n",
       "      <td>1</td>\n",
       "      <td>Male</td>\n",
       "      <td>0.9</td>\n",
       "      <td>1</td>\n",
       "      <td>2</td>\n",
       "      <td>151.55</td>\n",
       "      <td>Southampton</td>\n",
       "      <td>S</td>\n",
       "      <td>1.0</td>\n",
       "      <td>1.0</td>\n",
       "      <td>0.0</td>\n",
       "      <td>1.0</td>\n",
       "      <td>0.0</td>\n",
       "    </tr>\n",
       "    <tr>\n",
       "      <th>2</th>\n",
       "      <td>1</td>\n",
       "      <td>Female</td>\n",
       "      <td>2.0</td>\n",
       "      <td>1</td>\n",
       "      <td>2</td>\n",
       "      <td>151.55</td>\n",
       "      <td>Southampton</td>\n",
       "      <td>D</td>\n",
       "      <td>0.0</td>\n",
       "      <td>0.0</td>\n",
       "      <td>0.0</td>\n",
       "      <td>1.0</td>\n",
       "      <td>0.0</td>\n",
       "    </tr>\n",
       "    <tr>\n",
       "      <th>3</th>\n",
       "      <td>1</td>\n",
       "      <td>Male</td>\n",
       "      <td>30.0</td>\n",
       "      <td>1</td>\n",
       "      <td>2</td>\n",
       "      <td>151.55</td>\n",
       "      <td>Southampton</td>\n",
       "      <td>D</td>\n",
       "      <td>1.0</td>\n",
       "      <td>0.0</td>\n",
       "      <td>0.0</td>\n",
       "      <td>1.0</td>\n",
       "      <td>0.0</td>\n",
       "    </tr>\n",
       "    <tr>\n",
       "      <th>4</th>\n",
       "      <td>1</td>\n",
       "      <td>Female</td>\n",
       "      <td>25.0</td>\n",
       "      <td>1</td>\n",
       "      <td>2</td>\n",
       "      <td>151.55</td>\n",
       "      <td>Southampton</td>\n",
       "      <td>D</td>\n",
       "      <td>0.0</td>\n",
       "      <td>0.0</td>\n",
       "      <td>0.0</td>\n",
       "      <td>1.0</td>\n",
       "      <td>0.0</td>\n",
       "    </tr>\n",
       "  </tbody>\n",
       "</table>\n",
       "</div>"
      ],
      "text/plain": [
       "   Pclass  Gender   Age  SibSp  ParCh    Fare     Embarked Status  Gender_1  \\\n",
       "0       1  Female  29.0      0      0  211.34  Southampton      S       0.0   \n",
       "1       1    Male   0.9      1      2  151.55  Southampton      S       1.0   \n",
       "2       1  Female   2.0      1      2  151.55  Southampton      D       0.0   \n",
       "3       1    Male  30.0      1      2  151.55  Southampton      D       1.0   \n",
       "4       1  Female  25.0      1      2  151.55  Southampton      D       0.0   \n",
       "\n",
       "   Status_1  Embarked_1  Embarked_2  Embarked_3  \n",
       "0       1.0         0.0         1.0         0.0  \n",
       "1       1.0         0.0         1.0         0.0  \n",
       "2       0.0         0.0         1.0         0.0  \n",
       "3       0.0         0.0         1.0         0.0  \n",
       "4       0.0         0.0         1.0         0.0  "
      ]
     },
     "execution_count": 40,
     "metadata": {},
     "output_type": "execute_result"
    }
   ],
   "source": [
    "#3.Dummy variable\n",
    "#n-1 variable in one hot encoding to avoid multicolinearity\n",
    "titanic5 = titanic5.drop(['Gender_0' , 'Embarked_0' , 'Status_0'], axis=1)\n",
    "titanic5.head()"
   ]
  },
  {
   "cell_type": "code",
   "execution_count": 41,
   "id": "108a54e8",
   "metadata": {},
   "outputs": [],
   "source": [
    "#Feature Scaling"
   ]
  },
  {
   "cell_type": "code",
   "execution_count": 42,
   "id": "94f54487",
   "metadata": {
    "scrolled": true
   },
   "outputs": [
    {
     "data": {
      "text/plain": [
       "array([[0.33333333, 0.        , 0.3625    , ..., 0.41250756, 0.66666667,\n",
       "        1.        ],\n",
       "       [0.33333333, 1.        , 0.01125   , ..., 0.29580544, 0.66666667,\n",
       "        1.        ],\n",
       "       [0.33333333, 0.        , 0.025     , ..., 0.29580544, 0.66666667,\n",
       "        0.        ],\n",
       "       ...,\n",
       "       [1.        , 1.        , 0.33125   , ..., 0.014112  , 0.        ,\n",
       "        0.        ],\n",
       "       [1.        , 1.        , 0.3375    , ..., 0.014112  , 0.        ,\n",
       "        0.        ],\n",
       "       [1.        , 1.        , 0.3625    , ..., 0.01538071, 0.66666667,\n",
       "        0.        ]])"
      ]
     },
     "execution_count": 42,
     "metadata": {},
     "output_type": "execute_result"
    }
   ],
   "source": [
    "# Maximum Absolute Scaling\n",
    "#Formula=\n",
    "from sklearn.preprocessing import MaxAbsScaler\n",
    "mas=MaxAbsScaler()\n",
    "x=titanic4.iloc[:,[0,1,2,3,4,5,6,7]].values\n",
    "x=mas.fit_transform(x)\n",
    "x"
   ]
  },
  {
   "cell_type": "code",
   "execution_count": 45,
   "id": "4ff8fbde",
   "metadata": {
    "scrolled": true
   },
   "outputs": [
    {
     "data": {
      "text/plain": [
       "array([[0.        , 0.        , 0.36090226, ..., 0.41250756, 0.66666667,\n",
       "        1.        ],\n",
       "       [0.        , 1.        , 0.00877193, ..., 0.29580544, 0.66666667,\n",
       "        1.        ],\n",
       "       [0.        , 0.        , 0.02255639, ..., 0.29580544, 0.66666667,\n",
       "        0.        ],\n",
       "       ...,\n",
       "       [1.        , 1.        , 0.32957393, ..., 0.014112  , 0.        ,\n",
       "        0.        ],\n",
       "       [1.        , 1.        , 0.3358396 , ..., 0.014112  , 0.        ,\n",
       "        0.        ],\n",
       "       [1.        , 1.        , 0.36090226, ..., 0.01538071, 0.66666667,\n",
       "        0.        ]])"
      ]
     },
     "execution_count": 45,
     "metadata": {},
     "output_type": "execute_result"
    }
   ],
   "source": [
    "# Min Max Scaler \n",
    "#Formula\n",
    "from sklearn.preprocessing import MinMaxScaler\n",
    "mms=MinMaxScaler()\n",
    "y=titanic4.iloc[:,[0,1,2,3,4,5,6,7]].values\n",
    "y=mms.fit_transform(y)\n",
    "y"
   ]
  },
  {
   "cell_type": "code",
   "execution_count": 46,
   "id": "61de6e1c",
   "metadata": {},
   "outputs": [
    {
     "data": {
      "text/plain": [
       "array([[-1.54609786, -1.34499549, -0.03900763, ...,  3.44261582,\n",
       "         0.61896813,  1.27200629],\n",
       "       [-1.54609786,  0.74349692, -2.21725853, ...,  2.28662259,\n",
       "         0.61896813,  1.27200629],\n",
       "       [-1.54609786, -1.34499549, -2.13198892, ...,  2.28662259,\n",
       "         0.61896813, -0.78615963],\n",
       "       ...,\n",
       "       [ 0.84191642,  0.74349692, -0.2328022 , ..., -0.50369256,\n",
       "        -1.83255767, -0.78615963],\n",
       "       [ 0.84191642,  0.74349692, -0.19404328, ..., -0.50369256,\n",
       "        -1.83255767, -0.78615963],\n",
       "       [ 0.84191642,  0.74349692, -0.03900763, ..., -0.49112532,\n",
       "         0.61896813, -0.78615963]])"
      ]
     },
     "execution_count": 46,
     "metadata": {},
     "output_type": "execute_result"
    }
   ],
   "source": [
    "## Standardization (most commonly used)   these values are between -3 and 3 , it used the Z score formula\n",
    "from sklearn.preprocessing import StandardScaler\n",
    "ss = StandardScaler()\n",
    "z=titanic4.iloc[:,[0,1,2,3,4,5,6,7]].values\n",
    "z=ss.fit_transform(z)\n",
    "z"
   ]
  },
  {
   "cell_type": "code",
   "execution_count": 47,
   "id": "afce1bbd",
   "metadata": {},
   "outputs": [
    {
     "data": {
      "text/plain": [
       "array([[0.00468748, 0.        , 0.13593678, ..., 0.99065098, 0.00937495,\n",
       "        0.00468748],\n",
       "       [0.00659664, 0.00659664, 0.00593698, ..., 0.99972124, 0.01319329,\n",
       "        0.00659664],\n",
       "       [0.00659647, 0.        , 0.01319294, ..., 0.99969536, 0.01319294,\n",
       "        0.        ],\n",
       "       ...,\n",
       "       [0.10849907, 0.03616636, 0.95840843, ..., 0.26148275, 0.        ,\n",
       "        0.        ],\n",
       "       [0.10664932, 0.03554977, 0.95984392, ..., 0.25702487, 0.        ,\n",
       "        0.        ],\n",
       "       [0.09906363, 0.03302121, 0.95761508, ..., 0.26020713, 0.06604242,\n",
       "        0.        ]])"
      ]
     },
     "execution_count": 47,
     "metadata": {},
     "output_type": "execute_result"
    }
   ],
   "source": [
    "## Normalization\n",
    "\n",
    "from sklearn.preprocessing import normalize #read its documentation\n",
    "n=titanic4.iloc[:,[0,1,2,3,4,5,6,7]].values\n",
    "n=normalize(n)\n",
    "n"
   ]
  },
  {
   "cell_type": "code",
   "execution_count": 48,
   "id": "3df92844",
   "metadata": {},
   "outputs": [
    {
     "data": {
      "text/plain": [
       "array([[-2.        , -1.        ,  0.07692308, ...,  8.42130026,\n",
       "         0.        ,  1.        ],\n",
       "       [-2.        ,  0.        , -2.08461538, ...,  5.86398631,\n",
       "         0.        ,  1.        ],\n",
       "       [-2.        , -1.        , -2.        , ...,  5.86398631,\n",
       "         0.        ,  0.        ],\n",
       "       ...,\n",
       "       [ 0.        ,  0.        , -0.11538462, ..., -0.30881095,\n",
       "        -2.        ,  0.        ],\n",
       "       [ 0.        ,  0.        , -0.07692308, ..., -0.30881095,\n",
       "        -2.        ,  0.        ],\n",
       "       [ 0.        ,  0.        ,  0.07692308, ..., -0.28100941,\n",
       "         0.        ,  0.        ]])"
      ]
     },
     "execution_count": 48,
     "metadata": {},
     "output_type": "execute_result"
    }
   ],
   "source": [
    "## Robust scaling\n",
    "\n",
    "from sklearn.preprocessing import RobustScaler\n",
    "r=titanic4.iloc[:,[0,1,2,3,4,5,6,7]].values\n",
    "rs=RobustScaler()\n",
    "r=rs.fit_transform(r)\n",
    "r\n"
   ]
  },
  {
   "cell_type": "code",
   "execution_count": 52,
   "id": "cb796289",
   "metadata": {},
   "outputs": [
    {
     "data": {
      "text/plain": [
       "809"
      ]
     },
     "execution_count": 52,
     "metadata": {},
     "output_type": "execute_result"
    }
   ],
   "source": [
    "#5.Imbalance DATASET checking\n",
    "\n",
    "#Check whether Class is balance or imbalance\n",
    "\n",
    "imbalance=titanic4['Status'].value_counts()\n",
    "imbalance"
   ]
  },
  {
   "cell_type": "code",
   "execution_count": 53,
   "id": "1b4907e8",
   "metadata": {},
   "outputs": [
    {
     "name": "stdout",
     "output_type": "stream",
     "text": [
      "Balance Data set\n"
     ]
    }
   ],
   "source": [
    "if imbalance[1]>= 2*imbalance[0]:\n",
    "    print(\"Imbalance Data set\")\n",
    "else:\n",
    "    print(\"Balance Data set\")"
   ]
  },
  {
   "cell_type": "code",
   "execution_count": null,
   "id": "837d1f09",
   "metadata": {},
   "outputs": [],
   "source": [
    "#Techniques to convert imbalance data set into balance dataset\n",
    "\n",
    "#1.Undersampling- Target minority classes\n",
    "#2.Oversampling- Target Majority classes\n",
    "#3.SMOTE Techniques- Target minority classes"
   ]
  },
  {
   "cell_type": "markdown",
   "id": "fe4ecdd0",
   "metadata": {},
   "source": [
    "# Undersampling method"
   ]
  },
  {
   "cell_type": "code",
   "execution_count": 45,
   "id": "da75574d",
   "metadata": {},
   "outputs": [],
   "source": [
    "# from imblearn.under_sampling import RandomUnderSampler\n",
    "# under = RandomUnderSampler()\n",
    "# x_under, y_under = under.fit_resample(x,y)"
   ]
  },
  {
   "cell_type": "code",
   "execution_count": 46,
   "id": "d56a04e4",
   "metadata": {},
   "outputs": [
    {
     "name": "stdout",
     "output_type": "stream",
     "text": [
      "(984, 30)\n",
      "(984,)\n"
     ]
    }
   ],
   "source": [
    "# print(x_under.shape)\n",
    "# print(y_under.shape)"
   ]
  },
  {
   "cell_type": "markdown",
   "id": "79ea49f1",
   "metadata": {},
   "source": [
    "# Oversampling method"
   ]
  },
  {
   "cell_type": "code",
   "execution_count": 48,
   "id": "dc305395",
   "metadata": {},
   "outputs": [],
   "source": [
    "# from imblearn.over_sampling import RandomOverSampler\n",
    "# over = RandomOverSampler()\n",
    "# x_over, y_over = over.fit_resample(x,y)"
   ]
  },
  {
   "cell_type": "code",
   "execution_count": 49,
   "id": "b98939ba",
   "metadata": {},
   "outputs": [
    {
     "name": "stdout",
     "output_type": "stream",
     "text": [
      "(568630, 30)\n",
      "(568630,)\n"
     ]
    }
   ],
   "source": [
    "# print(x_over.shape)\n",
    "# print(y_over.shape)"
   ]
  },
  {
   "cell_type": "markdown",
   "id": "5972770e",
   "metadata": {},
   "source": [
    "# SMOTE - Synthetic Minority Over-sampling Technique"
   ]
  },
  {
   "cell_type": "code",
   "execution_count": 50,
   "id": "627a13f7",
   "metadata": {},
   "outputs": [],
   "source": [
    "# 0 - majority class - 284315\n",
    "# 1 - minority class - 492\n",
    "# SMOTE\n",
    "# target - minority class\n",
    "# 0 - 284315\n",
    "# 1 - 284315\n",
    "# 284315*2 = 568630"
   ]
  },
  {
   "cell_type": "code",
   "execution_count": 51,
   "id": "8842740f",
   "metadata": {},
   "outputs": [
    {
     "name": "stdout",
     "output_type": "stream",
     "text": [
      "(568630, 30)\n",
      "\n",
      "\n",
      "(568630,)\n"
     ]
    }
   ],
   "source": [
    "# from imblearn.over_sampling import SMOTE\n",
    "# smote = SMOTE()\n",
    "# x_smote, y_smote = smote.fit_resample(x,y)\n",
    "# print(x_smote.shape)\n",
    "# print('\\n')\n",
    "# print(y_smote.shape)\n",
    "      "
   ]
  },
  {
   "cell_type": "code",
   "execution_count": null,
   "id": "6b3e3da3",
   "metadata": {},
   "outputs": [],
   "source": []
  },
  {
   "cell_type": "code",
   "execution_count": null,
   "id": "e378dcb0",
   "metadata": {},
   "outputs": [],
   "source": []
  },
  {
   "cell_type": "code",
   "execution_count": null,
   "id": "b9069e2a",
   "metadata": {},
   "outputs": [],
   "source": []
  }
 ],
 "metadata": {
  "kernelspec": {
   "display_name": "Python 3 (ipykernel)",
   "language": "python",
   "name": "python3"
  },
  "language_info": {
   "codemirror_mode": {
    "name": "ipython",
    "version": 3
   },
   "file_extension": ".py",
   "mimetype": "text/x-python",
   "name": "python",
   "nbconvert_exporter": "python",
   "pygments_lexer": "ipython3",
   "version": "3.9.7"
  }
 },
 "nbformat": 4,
 "nbformat_minor": 5
}
